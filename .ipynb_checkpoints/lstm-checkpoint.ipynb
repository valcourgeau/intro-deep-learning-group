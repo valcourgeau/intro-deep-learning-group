{
 "cells": [
  {
   "cell_type": "code",
   "execution_count": 105,
   "metadata": {},
   "outputs": [],
   "source": [
    "import keras\n",
    "from keras.models import Sequential\n",
    "from keras.optimizers import SGD\n",
    "from keras.layers import LSTM, Dense, Dropout, Activation\n",
    "import numpy as np\n",
    "import pandas as pd\n",
    "import matplotlib.pyplot as plt\n",
    "\n",
    "import tensorflow as tf\n",
    "import numpy.random as rnd\n",
    "import os\n",
    "import sys\n",
    "\n",
    "# to make this notebook's output stable across runs\n",
    "def reset_graph(seed=42):\n",
    "    tf.reset_default_graph()\n",
    "    tf.set_random_seed(seed)\n",
    "    np.random.seed(seed)\n",
    "\n",
    "# convert an array of values into a dataset matrix\n",
    "def create_dataset(trainX, trainY, look_back=1):\n",
    "    dataX, dataY = [], []\n",
    "    for i in range(len(trainX)-look_back-1):\n",
    "        a = trainX[i:(i+look_back),:]\n",
    "        dataX.append(a)\n",
    "        dataY.append(trainY[i + look_back])\n",
    "    return np.array(dataX), np.array(dataY)"
   ]
  },
  {
   "cell_type": "code",
   "execution_count": 47,
   "metadata": {},
   "outputs": [
    {
     "name": "stdout",
     "output_type": "stream",
     "text": [
      "(2079, 19)\n"
     ]
    }
   ],
   "source": [
    "reset_graph()\n",
    "\n",
    "from functools import partial\n",
    "\n",
    "def train_autoencoder(X_train, n_neurons, n_epochs, batch_size,\n",
    "                      learning_rate = 0.01, l2_reg = 0.0005,\n",
    "                      activation=tf.nn.elu, seed=42):\n",
    "    graph = tf.Graph()\n",
    "    with graph.as_default():\n",
    "        tf.set_random_seed(seed)\n",
    "\n",
    "        n_inputs = X_train.shape[1]\n",
    "\n",
    "        X = tf.placeholder(tf.float32, shape=[None, n_inputs])\n",
    "        \n",
    "        my_dense_layer = partial(\n",
    "            tf.layers.dense,\n",
    "            activation=activation,\n",
    "            kernel_initializer=tf.contrib.layers.variance_scaling_initializer(),\n",
    "            kernel_regularizer=tf.contrib.layers.l2_regularizer(l2_reg))\n",
    "\n",
    "        hidden = my_dense_layer(X, n_neurons, name=\"hidden\")\n",
    "        outputs = my_dense_layer(hidden, n_inputs, activation=None, name=\"outputs\")\n",
    "\n",
    "        reconstruction_loss = tf.reduce_mean(tf.square(outputs - X))\n",
    "\n",
    "        reg_losses = tf.get_collection(tf.GraphKeys.REGULARIZATION_LOSSES)\n",
    "        loss = tf.add_n([reconstruction_loss] + reg_losses)\n",
    "\n",
    "        optimizer = tf.train.AdamOptimizer(learning_rate)\n",
    "        training_op = optimizer.minimize(loss)\n",
    "\n",
    "        init = tf.global_variables_initializer()\n",
    "\n",
    "    with tf.Session(graph=graph) as sess:\n",
    "        init.run()\n",
    "        for epoch in range(n_epochs):\n",
    "            n_batches = len(X_train) // batch_size\n",
    "            for iteration in range(n_batches):\n",
    "                #print(\"\\r{}%\".format(100 * iteration // n_batches), end=\"\")\n",
    "                sys.stdout.flush()\n",
    "                indices = rnd.permutation(len(X_train))[:batch_size]\n",
    "                X_batch = X_train[indices]\n",
    "                sess.run(training_op, feed_dict={X: X_batch})\n",
    "            loss_train = reconstruction_loss.eval(feed_dict={X: X_batch})\n",
    "            if epoch % 500 == 0:\n",
    "                print(\"\\r{}\".format(epoch), \"Train MSE:\", loss_train)\n",
    "        params = dict([(var.name, var.eval()) for var in tf.get_collection(tf.GraphKeys.TRAINABLE_VARIABLES)])\n",
    "        hidden_val = hidden.eval(feed_dict={X: X_train})\n",
    "        return hidden_val, params[\"hidden/kernel:0\"], params[\"hidden/bias:0\"], params[\"outputs/kernel:0\"], params[\"outputs/bias:0\"]\n",
    "\n",
    "# Import WT    \n",
    "x_train = np.genfromtxt('data/data_wt/sp500_wt.csv', delimiter=',', dtype=None, names=True)\n",
    "x_train = [list(item) for item in x_train]\n",
    "x_train = np.array(x_train)[:,2:]\n",
    "print(x_train.shape)\n",
    "\n",
    "def normalise_dataset(dataset):\n",
    "    n_cols = dataset.shape[1]\n",
    "    norm_dataset = np.zeros_like(dataset)\n",
    "    for i in range(n_cols): \n",
    "        mean = np.sum(dataset[:,i])/len(dataset[:,i])\n",
    "        std_dev = np.dot(dataset[:,i]-mean, dataset[:,i]-mean)/(len(dataset[:,i]) - 1)\n",
    "        std_dev = np.sqrt(std_dev)\n",
    "        norm_dataset[:,i] = (dataset[:,i] - mean) / std_dev\n",
    "\n",
    "    return norm_dataset\n",
    "\n",
    "# Normalised dataset\n",
    "x_train = normalise_dataset(x_train)\n"
   ]
  },
  {
   "cell_type": "code",
   "execution_count": 40,
   "metadata": {},
   "outputs": [],
   "source": [
    "def normalise_dataset(dataset):\n",
    "    n_cols = dataset.shape[1]\n",
    "    norm_dataset = np.zeros_like(dataset)\n",
    "    for i in range(n_cols): \n",
    "        mean = np.sum(dataset[:,i])/len(dataset[:,i])\n",
    "        std_dev = np.dot(dataset[:,i]-mean, dataset[:,i]-mean)/(len(dataset[:,i]) - 1)\n",
    "        std_dev = np.sqrt(std_dev)\n",
    "        norm_dataset[:,i] = (dataset[:,i] - mean) / std_dev\n",
    "\n",
    "    return norm_dataset"
   ]
  },
  {
   "cell_type": "code",
   "execution_count": 23,
   "metadata": {},
   "outputs": [
    {
     "name": "stdout",
     "output_type": "stream",
     "text": [
      "0 Train MSE: 0.21456\n",
      "500 Train MSE: 0.000275673\n",
      "1000 Train MSE: 0.000188743\n",
      "1500 Train MSE: 0.00021044\n",
      "2000 Train MSE: 0.000485146\n",
      "0 Train MSE: 0.238069\n",
      "500 Train MSE: 0.000401362\n",
      "1000 Train MSE: 0.000478527\n",
      "1500 Train MSE: 0.000283563\n",
      "2000 Train MSE: 0.000367953\n",
      "0 Train MSE: 0.720427\n",
      "500 Train MSE: 0.000360527\n",
      "1000 Train MSE: 0.000473596\n",
      "1500 Train MSE: 0.000615212\n",
      "2000 Train MSE: 0.000513849\n",
      "0 Train MSE: 2.11296\n",
      "500 Train MSE: 0.0125729\n",
      "1000 Train MSE: 0.0112613\n",
      "1500 Train MSE: 0.00891299\n",
      "2000 Train MSE: 0.00889777\n"
     ]
    }
   ],
   "source": [
    "# check this \n",
    "BATCH_SIZE = 60\n",
    "N_EPOCHS = 2500\n",
    "ACTIVATION = tf.nn.relu\n",
    "LEARNING_RATE = 0.005\n",
    "\n",
    "hidden_output1, W1, b1, W8, b8 = train_autoencoder(x_train, n_neurons=50, \n",
    "                                                   n_epochs=N_EPOCHS, \n",
    "                                                   batch_size=BATCH_SIZE, \n",
    "                                                   learning_rate=LEARNING_RATE,\n",
    "                                                   activation=ACTIVATION)\n",
    "hidden_output2, W2, b2, W7, b7 = train_autoencoder(hidden_output1, n_neurons=30, \n",
    "                                                   n_epochs=N_EPOCHS, \n",
    "                                                   batch_size=BATCH_SIZE, \n",
    "                                                   learning_rate=LEARNING_RATE,\n",
    "                                                   activation=ACTIVATION)\n",
    "hidden_output3, W3, b3, W6, b6 = train_autoencoder(hidden_output2, n_neurons=20, \n",
    "                                                   n_epochs=N_EPOCHS, \n",
    "                                                   batch_size=BATCH_SIZE, \n",
    "                                                   learning_rate=LEARNING_RATE,\n",
    "                                                   activation=ACTIVATION)\n",
    "o4, W4, b4, W5, b5 = train_autoencoder(hidden_output3,n_neurons=10, \n",
    "                                                   n_epochs=N_EPOCHS, \n",
    "                                                   batch_size=BATCH_SIZE, \n",
    "                                                   learning_rate=LEARNING_RATE,\n",
    "                                                   activation=ACTIVATION)"
   ]
  },
  {
   "cell_type": "code",
   "execution_count": 30,
   "metadata": {},
   "outputs": [],
   "source": [
    "np.savetxt(\"sae_test.csv\", o4, delimiter=\",\", fmt='%-7.4f', \n",
    "              comments='')"
   ]
  },
  {
   "cell_type": "code",
   "execution_count": 62,
   "metadata": {},
   "outputs": [],
   "source": [
    "from IPython.display import clear_output\n",
    "# Live plot for loss during training\n",
    "# Taken from: https://gist.github.com/stared/dfb4dfaf6d9a8501cd1cc8b8cb806d2e\n",
    "class PlotLosses(keras.callbacks.Callback):\n",
    "    def on_train_begin(self, logs={}):\n",
    "        self.i = 0\n",
    "        self.x = []\n",
    "        self.losses = []\n",
    "        self.val_losses = []\n",
    "        \n",
    "        self.fig = plt.figure()\n",
    "        \n",
    "        self.logs = []\n",
    "\n",
    "    def on_epoch_end(self, epoch, logs={}):\n",
    "        # Reset the plot to only have the last 100 epochs\n",
    "        if len(self.x) % 100 == 0:\n",
    "            self.on_train_begin()\n",
    "        self.logs.append(logs)\n",
    "        self.x.append(self.i)\n",
    "        self.losses.append(logs.get('loss'))\n",
    "        self.val_losses.append(logs.get('val_loss'))\n",
    "        self.i += 1\n",
    "        \n",
    "        clear_output(wait=True)\n",
    "        plt.plot(self.x, self.losses, label=\"loss\")\n",
    "        plt.plot(self.x, self.val_losses, label=\"val_loss\")\n",
    "        plt.legend()\n",
    "        plt.show();\n",
    "        \n",
    "plot_losses = PlotLosses()"
   ]
  },
  {
   "cell_type": "code",
   "execution_count": 120,
   "metadata": {},
   "outputs": [
    {
     "name": "stdout",
     "output_type": "stream",
     "text": [
      "(2079, 21)\n",
      "(2078, 19)\n",
      "2078\n",
      "2078\n"
     ]
    }
   ],
   "source": [
    "# Extract data from files\n",
    "#latent_val = pd.read_csv('sae_output_5000.csv')\n",
    "\n",
    "latent_val = pd.read_csv('data/data_wt/sp500_wt.csv')\n",
    "latent_val = np.array(latent_val)\n",
    "latent_val = normalise_dataset(latent_val)\n",
    "print(latent_val.shape)\n",
    "y_lazy = pd.read_csv('data/sp500_index_data.csv')['Close Price']\n",
    "y_train = y_lazy.shift(-1)\n",
    "y_train = np.array(y_train)\n",
    "#this means we have an na for the last value training is latent_val, target y_train\n",
    "\n",
    "# Preparing the datasets with look_back parameters\n",
    "look_back =4\n",
    "trainX_fixed = latent_val[:-1] # HAD TO DELETE \"[:-1]\" !\n",
    "trainX_fixed = trainX_fixed[:,2:]\n",
    "print(trainX_fixed.shape)\n",
    "trainX = trainX_fixed[:round(0.9*len(trainX_fixed))]\n",
    "testX = trainX_fixed[round(0.9*len(trainX_fixed)):]\n",
    "\n",
    "trainY_fixed = np.array(y_train[1:])\n",
    "trainY = trainY_fixed[:round(0.9*len(trainY_fixed))]\n",
    "testY = trainY_fixed[round(0.9*len(trainY_fixed)):]\n",
    "\n",
    "print(len(testX)+len(trainX))\n",
    "print(len(testY)+len(trainY))\n",
    "\n",
    "# Delete unnecessary arrays\n",
    "del trainX_fixed\n",
    "del trainY_fixed\n",
    "\n",
    "trainX, trainY = create_dataset(trainX, trainY, look_back)\n",
    "testX, testY = create_dataset(testX, testY, look_back) \n"
   ]
  },
  {
   "cell_type": "code",
   "execution_count": 121,
   "metadata": {
    "scrolled": false
   },
   "outputs": [
    {
     "data": {
      "image/png": "[encoded data removed]",
      "text/plain": [
       "<matplotlib.figure.Figure at 0x1ccc02ddfd0>"
      ]
     },
     "metadata": {},
     "output_type": "display_data"
    },
    {
     "name": "stdout",
     "output_type": "stream",
     "text": [
      "0s - loss: 826.1906 - val_loss: 3953.4596\n",
      "Epoch 458/5000\n"
     ]
    },
    {
     "ename": "KeyboardInterrupt",
     "evalue": "",
     "output_type": "error",
     "traceback": [
      "\u001b[1;31m---------------------------------------------------------------------------\u001b[0m",
      "\u001b[1;31mKeyboardInterrupt\u001b[0m                         Traceback (most recent call last)",
      "\u001b[1;32m<ipython-input-121-40877e2d4c25>\u001b[0m in \u001b[0;36m<module>\u001b[1;34m()\u001b[0m\n\u001b[0;32m     23\u001b[0m \u001b[0mmodel\u001b[0m\u001b[1;33m.\u001b[0m\u001b[0msummary\u001b[0m\u001b[1;33m(\u001b[0m\u001b[1;33m)\u001b[0m\u001b[1;33m\u001b[0m\u001b[0m\n\u001b[0;32m     24\u001b[0m model.fit(trainX, trainY, epochs=EPOCHS, batch_size=BATCH_SIZE,\n\u001b[1;32m---> 25\u001b[1;33m           verbose=2, callbacks=[plot_losses], validation_data=(testX, testY))\n\u001b[0m",
      "\u001b[1;32md:\\programs\\anaconda\\lib\\site-packages\\keras\\models.py\u001b[0m in \u001b[0;36mfit\u001b[1;34m(self, x, y, batch_size, epochs, verbose, callbacks, validation_split, validation_data, shuffle, class_weight, sample_weight, initial_epoch, **kwargs)\u001b[0m\n\u001b[0;32m    865\u001b[0m                               \u001b[0mclass_weight\u001b[0m\u001b[1;33m=\u001b[0m\u001b[0mclass_weight\u001b[0m\u001b[1;33m,\u001b[0m\u001b[1;33m\u001b[0m\u001b[0m\n\u001b[0;32m    866\u001b[0m                               \u001b[0msample_weight\u001b[0m\u001b[1;33m=\u001b[0m\u001b[0msample_weight\u001b[0m\u001b[1;33m,\u001b[0m\u001b[1;33m\u001b[0m\u001b[0m\n\u001b[1;32m--> 867\u001b[1;33m                               initial_epoch=initial_epoch)\n\u001b[0m\u001b[0;32m    868\u001b[0m \u001b[1;33m\u001b[0m\u001b[0m\n\u001b[0;32m    869\u001b[0m     def evaluate(self, x, y, batch_size=32, verbose=1,\n",
      "\u001b[1;32md:\\programs\\anaconda\\lib\\site-packages\\keras\\engine\\training.py\u001b[0m in \u001b[0;36mfit\u001b[1;34m(self, x, y, batch_size, epochs, verbose, callbacks, validation_split, validation_data, shuffle, class_weight, sample_weight, initial_epoch, steps_per_epoch, validation_steps, **kwargs)\u001b[0m\n\u001b[0;32m   1596\u001b[0m                               \u001b[0minitial_epoch\u001b[0m\u001b[1;33m=\u001b[0m\u001b[0minitial_epoch\u001b[0m\u001b[1;33m,\u001b[0m\u001b[1;33m\u001b[0m\u001b[0m\n\u001b[0;32m   1597\u001b[0m                               \u001b[0msteps_per_epoch\u001b[0m\u001b[1;33m=\u001b[0m\u001b[0msteps_per_epoch\u001b[0m\u001b[1;33m,\u001b[0m\u001b[1;33m\u001b[0m\u001b[0m\n\u001b[1;32m-> 1598\u001b[1;33m                               validation_steps=validation_steps)\n\u001b[0m\u001b[0;32m   1599\u001b[0m \u001b[1;33m\u001b[0m\u001b[0m\n\u001b[0;32m   1600\u001b[0m     def evaluate(self, x, y,\n",
      "\u001b[1;32md:\\programs\\anaconda\\lib\\site-packages\\keras\\engine\\training.py\u001b[0m in \u001b[0;36m_fit_loop\u001b[1;34m(self, f, ins, out_labels, batch_size, epochs, verbose, callbacks, val_f, val_ins, shuffle, callback_metrics, initial_epoch, steps_per_epoch, validation_steps)\u001b[0m\n\u001b[0;32m   1181\u001b[0m                     \u001b[0mbatch_logs\u001b[0m\u001b[1;33m[\u001b[0m\u001b[1;34m'size'\u001b[0m\u001b[1;33m]\u001b[0m \u001b[1;33m=\u001b[0m \u001b[0mlen\u001b[0m\u001b[1;33m(\u001b[0m\u001b[0mbatch_ids\u001b[0m\u001b[1;33m)\u001b[0m\u001b[1;33m\u001b[0m\u001b[0m\n\u001b[0;32m   1182\u001b[0m                     \u001b[0mcallbacks\u001b[0m\u001b[1;33m.\u001b[0m\u001b[0mon_batch_begin\u001b[0m\u001b[1;33m(\u001b[0m\u001b[0mbatch_index\u001b[0m\u001b[1;33m,\u001b[0m \u001b[0mbatch_logs\u001b[0m\u001b[1;33m)\u001b[0m\u001b[1;33m\u001b[0m\u001b[0m\n\u001b[1;32m-> 1183\u001b[1;33m                     \u001b[0mouts\u001b[0m \u001b[1;33m=\u001b[0m \u001b[0mf\u001b[0m\u001b[1;33m(\u001b[0m\u001b[0mins_batch\u001b[0m\u001b[1;33m)\u001b[0m\u001b[1;33m\u001b[0m\u001b[0m\n\u001b[0m\u001b[0;32m   1184\u001b[0m                     \u001b[1;32mif\u001b[0m \u001b[1;32mnot\u001b[0m \u001b[0misinstance\u001b[0m\u001b[1;33m(\u001b[0m\u001b[0mouts\u001b[0m\u001b[1;33m,\u001b[0m \u001b[0mlist\u001b[0m\u001b[1;33m)\u001b[0m\u001b[1;33m:\u001b[0m\u001b[1;33m\u001b[0m\u001b[0m\n\u001b[0;32m   1185\u001b[0m                         \u001b[0mouts\u001b[0m \u001b[1;33m=\u001b[0m \u001b[1;33m[\u001b[0m\u001b[0mouts\u001b[0m\u001b[1;33m]\u001b[0m\u001b[1;33m\u001b[0m\u001b[0m\n",
      "\u001b[1;32md:\\programs\\anaconda\\lib\\site-packages\\keras\\backend\\tensorflow_backend.py\u001b[0m in \u001b[0;36m__call__\u001b[1;34m(self, inputs)\u001b[0m\n\u001b[0;32m   2271\u001b[0m         updated = session.run(self.outputs + [self.updates_op],\n\u001b[0;32m   2272\u001b[0m                               \u001b[0mfeed_dict\u001b[0m\u001b[1;33m=\u001b[0m\u001b[0mfeed_dict\u001b[0m\u001b[1;33m,\u001b[0m\u001b[1;33m\u001b[0m\u001b[0m\n\u001b[1;32m-> 2273\u001b[1;33m                               **self.session_kwargs)\n\u001b[0m\u001b[0;32m   2274\u001b[0m         \u001b[1;32mreturn\u001b[0m \u001b[0mupdated\u001b[0m\u001b[1;33m[\u001b[0m\u001b[1;33m:\u001b[0m\u001b[0mlen\u001b[0m\u001b[1;33m(\u001b[0m\u001b[0mself\u001b[0m\u001b[1;33m.\u001b[0m\u001b[0moutputs\u001b[0m\u001b[1;33m)\u001b[0m\u001b[1;33m]\u001b[0m\u001b[1;33m\u001b[0m\u001b[0m\n\u001b[0;32m   2275\u001b[0m \u001b[1;33m\u001b[0m\u001b[0m\n",
      "\u001b[1;32md:\\programs\\anaconda\\lib\\site-packages\\tensorflow\\python\\client\\session.py\u001b[0m in \u001b[0;36mrun\u001b[1;34m(self, fetches, feed_dict, options, run_metadata)\u001b[0m\n\u001b[0;32m    893\u001b[0m     \u001b[1;32mtry\u001b[0m\u001b[1;33m:\u001b[0m\u001b[1;33m\u001b[0m\u001b[0m\n\u001b[0;32m    894\u001b[0m       result = self._run(None, fetches, feed_dict, options_ptr,\n\u001b[1;32m--> 895\u001b[1;33m                          run_metadata_ptr)\n\u001b[0m\u001b[0;32m    896\u001b[0m       \u001b[1;32mif\u001b[0m \u001b[0mrun_metadata\u001b[0m\u001b[1;33m:\u001b[0m\u001b[1;33m\u001b[0m\u001b[0m\n\u001b[0;32m    897\u001b[0m         \u001b[0mproto_data\u001b[0m \u001b[1;33m=\u001b[0m \u001b[0mtf_session\u001b[0m\u001b[1;33m.\u001b[0m\u001b[0mTF_GetBuffer\u001b[0m\u001b[1;33m(\u001b[0m\u001b[0mrun_metadata_ptr\u001b[0m\u001b[1;33m)\u001b[0m\u001b[1;33m\u001b[0m\u001b[0m\n",
      "\u001b[1;32md:\\programs\\anaconda\\lib\\site-packages\\tensorflow\\python\\client\\session.py\u001b[0m in \u001b[0;36m_run\u001b[1;34m(self, handle, fetches, feed_dict, options, run_metadata)\u001b[0m\n\u001b[0;32m   1122\u001b[0m     \u001b[1;32mif\u001b[0m \u001b[0mfinal_fetches\u001b[0m \u001b[1;32mor\u001b[0m \u001b[0mfinal_targets\u001b[0m \u001b[1;32mor\u001b[0m \u001b[1;33m(\u001b[0m\u001b[0mhandle\u001b[0m \u001b[1;32mand\u001b[0m \u001b[0mfeed_dict_tensor\u001b[0m\u001b[1;33m)\u001b[0m\u001b[1;33m:\u001b[0m\u001b[1;33m\u001b[0m\u001b[0m\n\u001b[0;32m   1123\u001b[0m       results = self._do_run(handle, final_targets, final_fetches,\n\u001b[1;32m-> 1124\u001b[1;33m                              feed_dict_tensor, options, run_metadata)\n\u001b[0m\u001b[0;32m   1125\u001b[0m     \u001b[1;32melse\u001b[0m\u001b[1;33m:\u001b[0m\u001b[1;33m\u001b[0m\u001b[0m\n\u001b[0;32m   1126\u001b[0m       \u001b[0mresults\u001b[0m \u001b[1;33m=\u001b[0m \u001b[1;33m[\u001b[0m\u001b[1;33m]\u001b[0m\u001b[1;33m\u001b[0m\u001b[0m\n",
      "\u001b[1;32md:\\programs\\anaconda\\lib\\site-packages\\tensorflow\\python\\client\\session.py\u001b[0m in \u001b[0;36m_do_run\u001b[1;34m(self, handle, target_list, fetch_list, feed_dict, options, run_metadata)\u001b[0m\n\u001b[0;32m   1319\u001b[0m     \u001b[1;32mif\u001b[0m \u001b[0mhandle\u001b[0m \u001b[1;32mis\u001b[0m \u001b[1;32mNone\u001b[0m\u001b[1;33m:\u001b[0m\u001b[1;33m\u001b[0m\u001b[0m\n\u001b[0;32m   1320\u001b[0m       return self._do_call(_run_fn, self._session, feeds, fetches, targets,\n\u001b[1;32m-> 1321\u001b[1;33m                            options, run_metadata)\n\u001b[0m\u001b[0;32m   1322\u001b[0m     \u001b[1;32melse\u001b[0m\u001b[1;33m:\u001b[0m\u001b[1;33m\u001b[0m\u001b[0m\n\u001b[0;32m   1323\u001b[0m       \u001b[1;32mreturn\u001b[0m \u001b[0mself\u001b[0m\u001b[1;33m.\u001b[0m\u001b[0m_do_call\u001b[0m\u001b[1;33m(\u001b[0m\u001b[0m_prun_fn\u001b[0m\u001b[1;33m,\u001b[0m \u001b[0mself\u001b[0m\u001b[1;33m.\u001b[0m\u001b[0m_session\u001b[0m\u001b[1;33m,\u001b[0m \u001b[0mhandle\u001b[0m\u001b[1;33m,\u001b[0m \u001b[0mfeeds\u001b[0m\u001b[1;33m,\u001b[0m \u001b[0mfetches\u001b[0m\u001b[1;33m)\u001b[0m\u001b[1;33m\u001b[0m\u001b[0m\n",
      "\u001b[1;32md:\\programs\\anaconda\\lib\\site-packages\\tensorflow\\python\\client\\session.py\u001b[0m in \u001b[0;36m_do_call\u001b[1;34m(self, fn, *args)\u001b[0m\n\u001b[0;32m   1325\u001b[0m   \u001b[1;32mdef\u001b[0m \u001b[0m_do_call\u001b[0m\u001b[1;33m(\u001b[0m\u001b[0mself\u001b[0m\u001b[1;33m,\u001b[0m \u001b[0mfn\u001b[0m\u001b[1;33m,\u001b[0m \u001b[1;33m*\u001b[0m\u001b[0margs\u001b[0m\u001b[1;33m)\u001b[0m\u001b[1;33m:\u001b[0m\u001b[1;33m\u001b[0m\u001b[0m\n\u001b[0;32m   1326\u001b[0m     \u001b[1;32mtry\u001b[0m\u001b[1;33m:\u001b[0m\u001b[1;33m\u001b[0m\u001b[0m\n\u001b[1;32m-> 1327\u001b[1;33m       \u001b[1;32mreturn\u001b[0m \u001b[0mfn\u001b[0m\u001b[1;33m(\u001b[0m\u001b[1;33m*\u001b[0m\u001b[0margs\u001b[0m\u001b[1;33m)\u001b[0m\u001b[1;33m\u001b[0m\u001b[0m\n\u001b[0m\u001b[0;32m   1328\u001b[0m     \u001b[1;32mexcept\u001b[0m \u001b[0merrors\u001b[0m\u001b[1;33m.\u001b[0m\u001b[0mOpError\u001b[0m \u001b[1;32mas\u001b[0m \u001b[0me\u001b[0m\u001b[1;33m:\u001b[0m\u001b[1;33m\u001b[0m\u001b[0m\n\u001b[0;32m   1329\u001b[0m       \u001b[0mmessage\u001b[0m \u001b[1;33m=\u001b[0m \u001b[0mcompat\u001b[0m\u001b[1;33m.\u001b[0m\u001b[0mas_text\u001b[0m\u001b[1;33m(\u001b[0m\u001b[0me\u001b[0m\u001b[1;33m.\u001b[0m\u001b[0mmessage\u001b[0m\u001b[1;33m)\u001b[0m\u001b[1;33m\u001b[0m\u001b[0m\n",
      "\u001b[1;32md:\\programs\\anaconda\\lib\\site-packages\\tensorflow\\python\\client\\session.py\u001b[0m in \u001b[0;36m_run_fn\u001b[1;34m(session, feed_dict, fetch_list, target_list, options, run_metadata)\u001b[0m\n\u001b[0;32m   1304\u001b[0m           return tf_session.TF_Run(session, options,\n\u001b[0;32m   1305\u001b[0m                                    \u001b[0mfeed_dict\u001b[0m\u001b[1;33m,\u001b[0m \u001b[0mfetch_list\u001b[0m\u001b[1;33m,\u001b[0m \u001b[0mtarget_list\u001b[0m\u001b[1;33m,\u001b[0m\u001b[1;33m\u001b[0m\u001b[0m\n\u001b[1;32m-> 1306\u001b[1;33m                                    status, run_metadata)\n\u001b[0m\u001b[0;32m   1307\u001b[0m \u001b[1;33m\u001b[0m\u001b[0m\n\u001b[0;32m   1308\u001b[0m     \u001b[1;32mdef\u001b[0m \u001b[0m_prun_fn\u001b[0m\u001b[1;33m(\u001b[0m\u001b[0msession\u001b[0m\u001b[1;33m,\u001b[0m \u001b[0mhandle\u001b[0m\u001b[1;33m,\u001b[0m \u001b[0mfeed_dict\u001b[0m\u001b[1;33m,\u001b[0m \u001b[0mfetch_list\u001b[0m\u001b[1;33m)\u001b[0m\u001b[1;33m:\u001b[0m\u001b[1;33m\u001b[0m\u001b[0m\n",
      "\u001b[1;31mKeyboardInterrupt\u001b[0m: "
     ]
    }
   ],
   "source": [
    "# create and fit the LSTM network\n",
    "LEARNING_RATE = 0.05\n",
    "BATCH_SIZE = 60\n",
    "EPOCHS = 5000\n",
    "opti_adam = keras.optimizers.Adam(lr=LEARNING_RATE, decay=1e-6)\n",
    "opti_sgd = keras.optimizers.SGD(lr=LEARNING_RATE)\n",
    "opti_rmsprop = keras.optimizers.RMSprop(lr=LEARNING_RATE, decay=1e-6)\n",
    "INPUT_SIZE = 19\n",
    "\n",
    "model = Sequential()\n",
    "#model.add(LSTM(50, return_sequences=True, input_shape=(look_back, 10)))\n",
    "#model.add(LSTM(20, input_shape=(look_back, 10)))\n",
    "#model.add(Dropout(0.2, seed=42))\n",
    "model.add(LSTM(INPUT_SIZE, return_sequences=True, input_shape=(look_back, INPUT_SIZE), unroll=False))\n",
    "#model.add(LSTM(10, return_sequences=True, unroll=True))\n",
    "#model.add(LSTM(10, return_sequences=True, unroll=True))\n",
    "#model.add(LSTM(10, return_sequences=True, unroll=True))\n",
    "model.add(LSTM(INPUT_SIZE, input_shape=(look_back, INPUT_SIZE), unroll=False))\n",
    "#model.add(LSTM(5))\n",
    "model.add(Dense(1))\n",
    "model.add(Activation(\"linear\"))\n",
    "model.compile(loss='mean_squared_error', optimizer=opti_adam)\n",
    "model.summary()\n",
    "model.fit(trainX, trainY, epochs=EPOCHS, batch_size=BATCH_SIZE,\n",
    "          verbose=2, callbacks=[plot_losses], validation_data=(testX, testY))"
   ]
  },
  {
   "cell_type": "code",
   "execution_count": 36,
   "metadata": {},
   "outputs": [
    {
     "name": "stdout",
     "output_type": "stream",
     "text": [
      "_________________________________________________________________\n",
      "Layer (type)                 Output Shape              Param #   \n",
      "=================================================================\n",
      "lstm_25 (LSTM)               (None, 4, 50)             12200     \n",
      "_________________________________________________________________\n",
      "dropout_7 (Dropout)          (None, 4, 50)             0         \n",
      "_________________________________________________________________\n",
      "lstm_26 (LSTM)               (None, 5)                 1120      \n",
      "_________________________________________________________________\n",
      "dense_13 (Dense)             (None, 1)                 6         \n",
      "=================================================================\n",
      "Total params: 13,326\n",
      "Trainable params: 13,326\n",
      "Non-trainable params: 0\n",
      "_________________________________________________________________\n"
     ]
    }
   ],
   "source": [
    "model.summary()"
   ]
  },
  {
   "cell_type": "code",
   "execution_count": 127,
   "metadata": {
    "scrolled": false
   },
   "outputs": [
    {
     "name": "stdout",
     "output_type": "stream",
     "text": [
      "[[ 2083.63891602]\n",
      " [ 2083.35644531]\n",
      " [ 2083.34008789]\n",
      " [ 2078.77929688]\n",
      " [ 2043.98950195]\n",
      " [ 2054.64013672]\n",
      " [ 2054.64013672]\n",
      " [ 2080.05712891]\n",
      " [ 2080.58862305]\n",
      " [ 2080.58862305]\n",
      " [ 2080.58862305]\n",
      " [ 2084.78564453]\n",
      " [ 2085.53955078]\n",
      " [ 2085.52856445]\n",
      " [ 2085.56835938]\n",
      " [ 2083.62744141]\n",
      " [ 2084.88476562]\n",
      " [ 2084.88476562]\n",
      " [ 2084.82836914]\n",
      " [ 2079.3125    ]\n",
      " [ 2042.93530273]\n",
      " [ 1944.52563477]\n",
      " [ 1952.07446289]\n",
      " [ 1952.10522461]\n",
      " [ 1950.98168945]\n",
      " [ 1921.94494629]\n",
      " [ 1925.96643066]\n",
      " [ 1930.11083984]\n",
      " [ 1935.94287109]\n",
      " [ 1946.12390137]\n",
      " [ 1947.01538086]\n",
      " [ 1947.13061523]\n",
      " [ 1947.89428711]\n",
      " [ 1955.61120605]\n",
      " [ 1955.9050293 ]\n",
      " [ 1957.44433594]\n",
      " [ 1957.44433594]\n",
      " [ 1957.44433594]\n",
      " [ 1955.9519043 ]\n",
      " [ 1955.22558594]\n",
      " [ 1953.75195312]\n",
      " [ 1953.14282227]\n",
      " [ 1955.63037109]\n",
      " [ 1953.09765625]\n",
      " [ 1946.8894043 ]\n",
      " [ 1941.05297852]\n",
      " [ 1949.52075195]\n",
      " [ 2022.49621582]\n",
      " [ 2025.44970703]\n",
      " [ 2050.68798828]\n",
      " [ 2050.92626953]\n",
      " [ 2050.92211914]\n",
      " [ 2050.92211914]\n",
      " [ 2050.92211914]\n",
      " [ 2050.92797852]\n",
      " [ 2050.92114258]\n",
      " [ 2049.7890625 ]\n",
      " [ 2049.55395508]\n",
      " [ 2041.65844727]\n",
      " [ 2067.5925293 ]\n",
      " [ 2082.01660156]\n",
      " [ 2082.01660156]\n",
      " [ 2082.60986328]\n",
      " [ 2078.76245117]\n",
      " [ 2078.76245117]\n",
      " [ 2079.20800781]\n",
      " [ 2077.21484375]\n",
      " [ 2084.65405273]\n",
      " [ 2084.65405273]\n",
      " [ 2084.65356445]\n",
      " [ 2086.52368164]\n",
      " [ 2086.5246582 ]\n",
      " [ 2086.5246582 ]\n",
      " [ 2086.72680664]\n",
      " [ 2085.00390625]\n",
      " [ 2085.00390625]\n",
      " [ 2085.00390625]\n",
      " [ 2085.00415039]\n",
      " [ 2084.89355469]\n",
      " [ 2084.89355469]\n",
      " [ 2084.89355469]\n",
      " [ 2084.93212891]\n",
      " [ 2085.26416016]\n",
      " [ 2085.26416016]\n",
      " [ 2085.26416016]\n",
      " [ 2085.26416016]\n",
      " [ 2085.66992188]\n",
      " [ 2085.66992188]\n",
      " [ 2085.66992188]\n",
      " [ 2085.66992188]\n",
      " [ 2085.00244141]\n",
      " [ 2085.00244141]\n",
      " [ 2085.00244141]\n",
      " [ 2084.93505859]\n",
      " [ 2085.63720703]\n",
      " [ 2085.63720703]\n",
      " [ 2085.63720703]\n",
      " [ 2085.63720703]\n",
      " [ 2085.67089844]\n",
      " [ 2085.36547852]\n",
      " [ 2085.0769043 ]\n",
      " [ 2085.0769043 ]\n",
      " [ 2084.96411133]\n",
      " [ 2084.96411133]\n",
      " [ 2084.96411133]\n",
      " [ 2084.96411133]\n",
      " [ 2085.01123047]\n",
      " [ 2085.01123047]\n",
      " [ 2085.01123047]\n",
      " [ 2085.01123047]\n",
      " [ 2084.96411133]\n",
      " [ 2084.96411133]\n",
      " [ 2084.96411133]\n",
      " [ 2084.96411133]\n",
      " [ 2084.96411133]\n",
      " [ 2085.30883789]\n",
      " [ 2085.50537109]\n",
      " [ 2085.52856445]\n",
      " [ 2085.203125  ]\n",
      " [ 2085.203125  ]\n",
      " [ 2085.203125  ]\n",
      " [ 2085.48730469]\n",
      " [ 2085.66137695]\n",
      " [ 2085.66137695]\n",
      " [ 2085.66137695]\n",
      " [ 2085.66137695]\n",
      " [ 2085.62182617]\n",
      " [ 2085.61962891]\n",
      " [ 2085.61962891]\n",
      " [ 2085.61938477]\n",
      " [ 2085.66455078]\n",
      " [ 2085.36206055]\n",
      " [ 2085.0769043 ]\n",
      " [ 2085.0769043 ]\n",
      " [ 2085.03222656]\n",
      " [ 2079.73217773]\n",
      " [ 2069.17041016]\n",
      " [ 2069.17041016]\n",
      " [ 2069.57739258]\n",
      " [ 2083.80444336]\n",
      " [ 2085.44702148]\n",
      " [ 2085.44702148]\n",
      " [ 2085.44702148]\n",
      " [ 2085.48950195]\n",
      " [ 2085.50537109]\n",
      " [ 2085.52856445]\n",
      " [ 2085.74658203]\n",
      " [ 2085.74658203]\n",
      " [ 2085.74658203]\n",
      " [ 2085.49291992]\n",
      " [ 2085.02636719]\n",
      " [ 2085.02636719]\n",
      " [ 2085.02636719]\n",
      " [ 2085.02612305]\n",
      " [ 2085.        ]\n",
      " [ 2085.        ]\n",
      " [ 2085.        ]\n",
      " [ 2085.        ]\n",
      " [ 2082.75366211]\n",
      " [ 2082.75366211]\n",
      " [ 2082.75366211]\n",
      " [ 2085.48388672]\n",
      " [ 2085.66967773]\n",
      " [ 2085.66992188]\n",
      " [ 2085.66992188]\n",
      " [ 2085.66992188]\n",
      " [ 2085.66748047]\n",
      " [ 2085.66748047]\n",
      " [ 2085.66748047]\n",
      " [ 2085.66748047]\n",
      " [ 2083.38647461]\n",
      " [ 2083.38647461]\n",
      " [ 2083.38647461]\n",
      " [ 2083.38647461]\n",
      " [ 2085.40185547]\n",
      " [ 2085.40185547]\n",
      " [ 2085.40185547]\n",
      " [ 2085.40185547]\n",
      " [ 2085.39550781]\n",
      " [ 2085.39550781]\n",
      " [ 2085.39550781]\n",
      " [ 2085.05175781]\n",
      " [ 2085.65966797]\n",
      " [ 2085.65966797]\n",
      " [ 2085.65966797]\n",
      " [ 2085.65966797]\n",
      " [ 2085.67089844]\n",
      " [ 2085.67089844]\n",
      " [ 2085.67089844]\n",
      " [ 2085.67089844]\n",
      " [ 2085.63378906]\n",
      " [ 2085.33325195]\n",
      " [ 2085.0480957 ]\n",
      " [ 2085.0480957 ]\n",
      " [ 2084.96411133]\n",
      " [ 2084.96411133]\n",
      " [ 2084.96411133]\n",
      " [ 2084.96411133]\n",
      " [ 2084.96411133]\n",
      " [ 2085.25585938]\n",
      " [ 2085.43334961]\n",
      " [ 2085.43334961]\n",
      " [ 2085.40869141]]\n"
     ]
    },
    {
     "data": {
      "image/png": "[encoded data removed]",
      "text/plain": [
       "<matplotlib.figure.Figure at 0x1cc9d7e8f98>"
      ]
     },
     "metadata": {},
     "output_type": "display_data"
    }
   ],
   "source": [
    "bugger = model.predict(testX)[:,0]\n",
    "print(model.predict(testX))\n",
    "import matplotlib.pyplot as plt\n",
    "%matplotlib inline\n",
    "plt.plot(bugger)\n",
    "plt.plot(testY)\n",
    "plt.show()"
   ]
  },
  {
   "cell_type": "code",
   "execution_count": 128,
   "metadata": {},
   "outputs": [
    {
     "name": "stdout",
     "output_type": "stream",
     "text": [
      "[[[ 1.37802517  1.3752418   1.39731245 ..., -0.82853044  2.13010982\n",
      "   -0.26915804]\n",
      "  [ 1.37802517  1.3752418   1.39731245 ..., -0.82853044  2.13010982\n",
      "   -0.26915804]\n",
      "  [ 1.32796338  1.34887     1.35243761 ..., -1.19482752  2.00598144\n",
      "   -0.25441169]\n",
      "  [ 1.32796338  1.34887     1.35243761 ..., -1.19482752  2.00598144\n",
      "   -0.25441169]]\n",
      "\n",
      " [[ 1.37802517  1.3752418   1.39731245 ..., -0.82853044  2.13010982\n",
      "   -0.26915804]\n",
      "  [ 1.32796338  1.34887     1.35243761 ..., -1.19482752  2.00598144\n",
      "   -0.25441169]\n",
      "  [ 1.32796338  1.34887     1.35243761 ..., -1.19482752  2.00598144\n",
      "   -0.25441169]\n",
      "  [ 1.32796338  1.34887     1.35243761 ..., -1.19482752  2.00598144\n",
      "   -0.25441169]]\n",
      "\n",
      " [[ 1.32796338  1.34887     1.35243761 ..., -1.19482752  2.00598144\n",
      "   -0.25441169]\n",
      "  [ 1.32796338  1.34887     1.35243761 ..., -1.19482752  2.00598144\n",
      "   -0.25441169]\n",
      "  [ 1.32796338  1.34887     1.35243761 ..., -1.19482752  2.00598144\n",
      "   -0.25441169]\n",
      "  [ 1.32796338  1.34887     1.35243761 ..., -1.19482752  2.00598144\n",
      "   -0.25441169]]\n",
      "\n",
      " ..., \n",
      " [[ 1.53357647  1.53487329  1.53606593 ..., -0.80896087  1.69128427\n",
      "    0.5271446 ]\n",
      "  [ 1.53357647  1.53487329  1.53606593 ..., -0.80896087  1.69128427\n",
      "    0.5271446 ]\n",
      "  [ 1.5738601   1.57581962  1.57077244 ..., -0.93840023  1.62944378\n",
      "    0.5271446 ]\n",
      "  [ 1.5738601   1.57581962  1.57077244 ..., -0.93840023  1.62944378\n",
      "    0.5271446 ]]\n",
      "\n",
      " [[ 1.53357647  1.53487329  1.53606593 ..., -0.80896087  1.69128427\n",
      "    0.5271446 ]\n",
      "  [ 1.5738601   1.57581962  1.57077244 ..., -0.93840023  1.62944378\n",
      "    0.5271446 ]\n",
      "  [ 1.5738601   1.57581962  1.57077244 ..., -0.93840023  1.62944378\n",
      "    0.5271446 ]\n",
      "  [ 1.5738601   1.57581962  1.57077244 ..., -0.93840023  1.62944378\n",
      "    0.5271446 ]]\n",
      "\n",
      " [[ 1.5738601   1.57581962  1.57077244 ..., -0.93840023  1.62944378\n",
      "    0.5271446 ]\n",
      "  [ 1.5738601   1.57581962  1.57077244 ..., -0.93840023  1.62944378\n",
      "    0.5271446 ]\n",
      "  [ 1.5738601   1.57581962  1.57077244 ..., -0.93840023  1.62944378\n",
      "    0.5271446 ]\n",
      "  [ 1.5738601   1.57581962  1.57077244 ..., -0.93840023  1.62944378\n",
      "    0.5271446 ]]]\n"
     ]
    }
   ],
   "source": [
    "print(testX)"
   ]
  },
  {
   "cell_type": "code",
   "execution_count": 130,
   "metadata": {},
   "outputs": [
    {
     "name": "stdout",
     "output_type": "stream",
     "text": [
      "202\n",
      "202\n"
     ]
    },
    {
     "data": {
      "image/png": "[encoded data removed]",
      "text/plain": [
       "<matplotlib.figure.Figure at 0x1ccba652080>"
      ]
     },
     "metadata": {},
     "output_type": "display_data"
    },
    {
     "ename": "IndexError",
     "evalue": "too many indices for array",
     "output_type": "error",
     "traceback": [
      "\u001b[1;31m---------------------------------------------------------------------------\u001b[0m",
      "\u001b[1;31mIndexError\u001b[0m                                Traceback (most recent call last)",
      "\u001b[1;32m<ipython-input-130-2f29126f2d68>\u001b[0m in \u001b[0;36m<module>\u001b[1;34m()\u001b[0m\n\u001b[0;32m      8\u001b[0m \u001b[0mplt\u001b[0m\u001b[1;33m.\u001b[0m\u001b[0mplot\u001b[0m\u001b[1;33m(\u001b[0m\u001b[0mdiff_bugger\u001b[0m\u001b[1;33m[\u001b[0m\u001b[1;36m1\u001b[0m\u001b[1;33m:\u001b[0m\u001b[1;36m200\u001b[0m\u001b[1;33m]\u001b[0m\u001b[1;33m)\u001b[0m\u001b[1;33m\u001b[0m\u001b[0m\n\u001b[0;32m      9\u001b[0m \u001b[0mplt\u001b[0m\u001b[1;33m.\u001b[0m\u001b[0mshow\u001b[0m\u001b[1;33m(\u001b[0m\u001b[1;33m)\u001b[0m\u001b[1;33m\u001b[0m\u001b[0m\n\u001b[1;32m---> 10\u001b[1;33m \u001b[0mprint\u001b[0m\u001b[1;33m(\u001b[0m\u001b[0mbugger\u001b[0m\u001b[1;33m[\u001b[0m\u001b[1;33m:\u001b[0m\u001b[1;33m,\u001b[0m\u001b[1;36m0\u001b[0m\u001b[1;33m]\u001b[0m\u001b[1;33m)\u001b[0m\u001b[1;33m\u001b[0m\u001b[0m\n\u001b[0m",
      "\u001b[1;31mIndexError\u001b[0m: too many indices for array"
     ]
    }
   ],
   "source": [
    "diff_bugger = np.diff(bugger)\n",
    "diff_bugger = [1 if x > 0 else 0 for x in diff_bugger]\n",
    "diff_trainY = np.diff(testY)\n",
    "diff_trainY = [1 if x > 0 else 0 for x in diff_trainY]\n",
    "print(len(diff_trainY))\n",
    "print(len(diff_bugger))\n",
    "plt.plot(diff_trainY[1:200], alpha = 0.5)\n",
    "plt.plot(diff_bugger[1:200])\n",
    "plt.show()\n",
    "print(bugger[:,0])"
   ]
  },
  {
   "cell_type": "code",
   "execution_count": 131,
   "metadata": {},
   "outputs": [
    {
     "name": "stdout",
     "output_type": "stream",
     "text": [
      "95\n",
      "0.529702970297\n",
      "[[73 67]\n",
      " [22 40]]\n",
      "Accuracy price move prediction: 0.5594059405940595\n"
     ]
    }
   ],
   "source": [
    "from sklearn.metrics import confusion_matrix\n",
    "print(confusion_matrix(diff_trainY, diff_trainY, labels=[0,1])[0,0])\n",
    "print(confusion_matrix(diff_trainY, diff_trainY, labels=[0,1])[1,1]/np.trace(confusion_matrix(diff_trainY, diff_trainY, labels=[0,1])))\n",
    "conf_mat = confusion_matrix(diff_bugger, diff_trainY, labels=[0,1])\n",
    "print(conf_mat)\n",
    "print(\"Accuracy price move prediction: {}\".format(np.trace(conf_mat) / np.sum(conf_mat)))"
   ]
  },
  {
   "cell_type": "code",
   "execution_count": 132,
   "metadata": {},
   "outputs": [
    {
     "data": {
      "text/plain": [
       "0.7155126140633387"
      ]
     },
     "execution_count": 132,
     "metadata": {},
     "output_type": "execute_result"
    }
   ],
   "source": [
    "(586+747) / (586+747 + 268 + 262)"
   ]
  },
  {
   "cell_type": "code",
   "execution_count": 141,
   "metadata": {},
   "outputs": [
    {
     "name": "stdout",
     "output_type": "stream",
     "text": [
      "675894.742189\n",
      "106033.25797\n"
     ]
    },
    {
     "ename": "TypeError",
     "evalue": "Required argument 'b' (pos 2) not found",
     "output_type": "error",
     "traceback": [
      "\u001b[1;31m---------------------------------------------------------------------------\u001b[0m",
      "\u001b[1;31mTypeError\u001b[0m                                 Traceback (most recent call last)",
      "\u001b[1;32m<ipython-input-141-be7f13dea561>\u001b[0m in \u001b[0;36m<module>\u001b[1;34m()\u001b[0m\n\u001b[0;32m     21\u001b[0m \u001b[1;33m\u001b[0m\u001b[0m\n\u001b[0;32m     22\u001b[0m \u001b[0mcompute_mape\u001b[0m\u001b[1;33m(\u001b[0m\u001b[0mtestY\u001b[0m\u001b[1;33m,\u001b[0m \u001b[0mbugger\u001b[0m\u001b[1;33m)\u001b[0m\u001b[1;33m\u001b[0m\u001b[0m\n\u001b[1;32m---> 23\u001b[1;33m \u001b[0mcompute_r\u001b[0m\u001b[1;33m(\u001b[0m\u001b[0mtestY\u001b[0m\u001b[1;33m,\u001b[0m \u001b[0mbugger\u001b[0m\u001b[1;33m)\u001b[0m\u001b[1;33m\u001b[0m\u001b[0m\n\u001b[0m\u001b[0;32m     24\u001b[0m \u001b[1;31m#compute_theil_u(testY, bugger)\u001b[0m\u001b[1;33m\u001b[0m\u001b[1;33m\u001b[0m\u001b[0m\n",
      "\u001b[1;32m<ipython-input-141-be7f13dea561>\u001b[0m in \u001b[0;36mcompute_r\u001b[1;34m(y, y_pred)\u001b[0m\n\u001b[0;32m      8\u001b[0m     \u001b[0mprint\u001b[0m\u001b[1;33m(\u001b[0m \u001b[0mnp\u001b[0m\u001b[1;33m.\u001b[0m\u001b[0mdot\u001b[0m\u001b[1;33m(\u001b[0m\u001b[0my\u001b[0m \u001b[1;33m-\u001b[0m \u001b[0mmean_pred\u001b[0m\u001b[1;33m,\u001b[0m \u001b[0my_pred\u001b[0m \u001b[1;33m-\u001b[0m \u001b[0mmean_pred\u001b[0m\u001b[1;33m)\u001b[0m \u001b[1;33m)\u001b[0m\u001b[1;33m\u001b[0m\u001b[0m\n\u001b[0;32m      9\u001b[0m     \u001b[0mprint\u001b[0m\u001b[1;33m(\u001b[0m\u001b[0mnp\u001b[0m\u001b[1;33m.\u001b[0m\u001b[0msqrt\u001b[0m\u001b[1;33m(\u001b[0m\u001b[0mnp\u001b[0m\u001b[1;33m.\u001b[0m\u001b[0mdot\u001b[0m\u001b[1;33m(\u001b[0m\u001b[0mnp\u001b[0m\u001b[1;33m.\u001b[0m\u001b[0msquare\u001b[0m\u001b[1;33m(\u001b[0m\u001b[0my\u001b[0m \u001b[1;33m-\u001b[0m \u001b[0mmean_pred\u001b[0m\u001b[1;33m)\u001b[0m\u001b[1;33m,\u001b[0m \u001b[0mnp\u001b[0m\u001b[1;33m.\u001b[0m\u001b[0msquare\u001b[0m\u001b[1;33m(\u001b[0m\u001b[0my_pred\u001b[0m \u001b[1;33m-\u001b[0m \u001b[0mmean_pred\u001b[0m\u001b[1;33m)\u001b[0m\u001b[1;33m)\u001b[0m\u001b[1;33m)\u001b[0m\u001b[1;33m)\u001b[0m\u001b[1;33m\u001b[0m\u001b[0m\n\u001b[1;32m---> 10\u001b[1;33m     \u001b[1;32mreturn\u001b[0m  \u001b[0mnp\u001b[0m\u001b[1;33m.\u001b[0m\u001b[0mdot\u001b[0m\u001b[1;33m(\u001b[0m\u001b[0my\u001b[0m \u001b[1;33m-\u001b[0m \u001b[0mmean_pred\u001b[0m\u001b[1;33m,\u001b[0m \u001b[0my_pred\u001b[0m \u001b[1;33m-\u001b[0m \u001b[0mmean_pred\u001b[0m\u001b[1;33m)\u001b[0m \u001b[1;33m/\u001b[0m \u001b[0mnp\u001b[0m\u001b[1;33m.\u001b[0m\u001b[0msqrt\u001b[0m\u001b[1;33m(\u001b[0m\u001b[0mnp\u001b[0m\u001b[1;33m.\u001b[0m\u001b[0msum\u001b[0m\u001b[1;33m(\u001b[0m\u001b[0mnp\u001b[0m\u001b[1;33m.\u001b[0m\u001b[0mdot\u001b[0m\u001b[1;33m(\u001b[0m\u001b[0mnp\u001b[0m\u001b[1;33m.\u001b[0m\u001b[0msquare\u001b[0m\u001b[1;33m(\u001b[0m\u001b[0my\u001b[0m \u001b[1;33m-\u001b[0m \u001b[0mmean_pred\u001b[0m\u001b[1;33m)\u001b[0m\u001b[1;33m)\u001b[0m\u001b[1;33m)\u001b[0m \u001b[1;33m*\u001b[0m \u001b[0mnp\u001b[0m\u001b[1;33m.\u001b[0m\u001b[0msum\u001b[0m\u001b[1;33m(\u001b[0m\u001b[0mnp\u001b[0m\u001b[1;33m.\u001b[0m\u001b[0msquare\u001b[0m\u001b[1;33m(\u001b[0m\u001b[0my_pred\u001b[0m \u001b[1;33m-\u001b[0m \u001b[0mmean_pred\u001b[0m\u001b[1;33m)\u001b[0m\u001b[1;33m)\u001b[0m\u001b[1;33m)\u001b[0m\u001b[1;33m\u001b[0m\u001b[0m\n\u001b[0m\u001b[0;32m     11\u001b[0m \u001b[1;33m\u001b[0m\u001b[0m\n\u001b[0;32m     12\u001b[0m \u001b[1;32mdef\u001b[0m \u001b[0mcompute_theil_u\u001b[0m\u001b[1;33m(\u001b[0m\u001b[0my\u001b[0m\u001b[1;33m,\u001b[0m \u001b[0my_pred\u001b[0m\u001b[1;33m)\u001b[0m\u001b[1;33m:\u001b[0m\u001b[1;33m\u001b[0m\u001b[0m\n",
      "\u001b[1;31mTypeError\u001b[0m: Required argument 'b' (pos 2) not found"
     ]
    }
   ],
   "source": [
    "def compute_mape(y, y_pred):\n",
    "    assert len(y) == len(y_pred)\n",
    "    return np.sum(np.abs((y-y_pred) / y)) / len(y)\n",
    "\n",
    "def compute_r(y, y_pred):\n",
    "    assert len(y) == len(y_pred)\n",
    "    mean_pred = np.mean(y_pred)\n",
    "    print( np.dot(y - mean_pred, y_pred - mean_pred) )\n",
    "    print(np.sqrt(np.dot(np.square(y - mean_pred), np.square(y_pred - mean_pred))))\n",
    "    return  np.dot(y - mean_pred, y_pred - mean_pred) / np.sqrt(np.sum(np.square(y - mean_pred)) * np.sum(np.square(y_pred - mean_pred)))\n",
    "\n",
    "def compute_theil_u(y, y_pred):\n",
    "    assert len(y) == len(y_pred)\n",
    "    \n",
    "    n = len(y)\n",
    "    temp = np.sqrt(np.sum(np.square(y)) / n)\n",
    "    temp += np.sqrt(np.sum(np.square(y_pred)) / n)\n",
    "    temp = np.sqrt(np.sum(np.square(y - y_pred)) / n) / temp \n",
    "    return temp\n",
    "    \n",
    "    \n",
    "compute_mape(testY, bugger)\n",
    "compute_r(testY, bugger)\n",
    "#compute_theil_u(testY, bugger)"
   ]
  },
  {
   "cell_type": "code",
   "execution_count": 97,
   "metadata": {},
   "outputs": [],
   "source": [
    "BUY_COST = 0.25/100\n",
    "SELL_COST = 0.45/100\n",
    "\n",
    "def daily_pnl(y_tomorrow, y_today, buy=True, buy_cost=BUY_COST, sell_cost=SELL_COST):\n",
    "    if(buy):\n",
    "        return (y_tomorrow - y_today - (buy_cost*y_tomorrow + sell_cost*y_today)) / y_today\n",
    "    else:\n",
    "        return (y_today - y_tomorrow - (buy_cost*y_today + sell_cost*y_tomorrow)) / y_today\n",
    "    \n",
    "\n",
    "def strategy_return(y_pred, y_truth):\n",
    "    assert len(y_pred) == len(y_truth)\n",
    "    n = len(y_pred)\n",
    "    # Vector of 1s for buy, 0s for sell. Approx: no exact predictions...\n",
    "    buy_sell = [1 if y_pred[index] > y_truth[index] else -1 if y_pred[index] < y_truth[index] else 0 for index in range(n-1)]\n",
    "    ret = [daily_pnl(y_truth[index+1], y_truth[index]) if buy_sell[index] == 1 else\n",
    "           daily_pnl(y_truth[index+1], y_truth[index], buy=False) for index in range(n-1)]\n",
    "    return np.sum(ret)*100\n",
    "    "
   ]
  },
  {
   "cell_type": "code",
   "execution_count": 98,
   "metadata": {},
   "outputs": [
    {
     "data": {
      "text/plain": [
       "-130.63212700329069"
      ]
     },
     "execution_count": 98,
     "metadata": {},
     "output_type": "execute_result"
    }
   ],
   "source": [
    "strategy_return(bugger, testY)\n",
    "#print((bugger - testY)[0:20])"
   ]
  }
 ],
 "metadata": {
  "kernelspec": {
   "display_name": "Python 3",
   "language": "python",
   "name": "python3"
  },
  "language_info": {
   "codemirror_mode": {
    "name": "ipython",
    "version": 3
   },
   "file_extension": ".py",
   "mimetype": "text/x-python",
   "name": "python",
   "nbconvert_exporter": "python",
   "pygments_lexer": "ipython3",
   "version": "3.6.0"
  }
 },
 "nbformat": 4,
 "nbformat_minor": 2
}
