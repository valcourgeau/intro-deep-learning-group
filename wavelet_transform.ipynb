{
 "cells": [
  {
   "cell_type": "code",
   "execution_count": 104,
   "metadata": {},
   "outputs": [],
   "source": [
    "import pywt\n",
    "import numpy as np\n",
    "import matplotlib.pyplot as plt"
   ]
  },
  {
   "cell_type": "code",
   "execution_count": 142,
   "metadata": {},
   "outputs": [
    {
     "name": "stdout",
     "output_type": "stream",
     "text": [
      "('Ntime', 'time', 'Close_Price', 'Open_Price', 'High_Price', 'Low_Price', 'Volume', 'MACD', 'CCI', 'ATR', 'BOLL', 'EMA20', 'MA10', 'MTM6', 'MA5', 'MTM12', 'ROC', 'SMI', 'WVAD', 'US_Dollar_Index', 'Federal_Fund_Rate')\n",
      "2079\n"
     ]
    }
   ],
   "source": [
    "sp500_data = np.genfromtxt('data/sp500_index_data.csv', delimiter=',', dtype=float, names=True)\n",
    "print(sp500_data.dtype.names) # print names of columns"
   ]
  },
  {
   "cell_type": "code",
   "execution_count": 170,
   "metadata": {
    "scrolled": true
   },
   "outputs": [
    {
     "data": {
      "image/png": "[encoded data removed]",
      "text/plain": [
       "<matplotlib.figure.Figure at 0x232445961d0>"
      ]
     },
     "metadata": {},
     "output_type": "display_data"
    },
    {
     "name": "stdout",
     "output_type": "stream",
     "text": [
      "accuracy: 13.351546004542405\n"
     ]
    }
   ],
   "source": [
    "def apply_wt_once(data, wavelet='haar', level=2, mode='constant'):\n",
    "    \"\"\"\n",
    "    This function performs a WT on data and keeps only the low \n",
    "    frequencies in the decomposition.\n",
    "    The original paper refers to this time-series as S_J(t).\n",
    "    \n",
    "    Args:\n",
    "        data: the univariate to apply the wavelet transform\n",
    "        wavelet: the type of wavelet transform\n",
    "        level: level of WT\n",
    "        mode: how the WT is applied on the ends of the datasets\n",
    "        \n",
    "    Return:\n",
    "        reconstructed time-series from WT decomposition where the \n",
    "        high-frequency entries have been ignored\n",
    "    \"\"\"\n",
    "    haar_dwt = pywt.wavedec(data, wavelet=wavelet, level=level, mode=mode)\n",
    "    \n",
    "    # delete the high frequencies from the decomposition\n",
    "    haar_dwt[1] = np.zeros_like(haar_dwt[1])\n",
    "    haar_dwt[2] = np.zeros_like(haar_dwt[2])\n",
    "  \n",
    "    return pywt.waverec(haar_dwt, mode=mode, wavelet=wavelet)\n",
    "\n",
    "def apply_wt_twice(data, wavelet='haar', level=2, mode='constant'):\n",
    "    \"\"\"\n",
    "        This function applies the WT twice, each time ignoring the high-frequency terms.\n",
    "        \n",
    "        Args:\n",
    "            data: univariate data to apply the WT twice on.\n",
    "            wavelet: type of WT\n",
    "            level: level of WT\n",
    "            mode: mode used to compute WT on the edges\n",
    "        \n",
    "        Return:\n",
    "            Reconstructed time-series ignoring the higher frequencies.\n",
    "    \"\"\"\n",
    "    wt_results = apply_wt_once(data=sp500_data['Close_Price'],\n",
    "                        wavelet=current_wavelet,\n",
    "                        level=current_level,\n",
    "                        mode=current_mode)\n",
    "    \n",
    "    return apply_wt_once(data=wt_results,\n",
    "                        wavelet=current_wavelet,\n",
    "                        level=current_level,\n",
    "                        mode=current_mode)\n",
    "\n",
    "def get_accuracy(data1, data2):\n",
    "    \"\"\"\n",
    "        This function computes the standard error between two np.arrays data1 and data2 of same size.\n",
    "        \n",
    "        Args:\n",
    "            data1: 1-d np.array\n",
    "            datat2: 1-d np.array\n",
    "            \n",
    "        Returns:\n",
    "            standard deviation of the difference data1-data2.\n",
    "            \n",
    "    \"\"\"\n",
    "\n",
    "    return np.std(data1-data2)\n",
    "\n",
    "current_level = 2\n",
    "current_mode = 'symmetric'\n",
    "current_wavelet = pywt.Wavelet('haar')\n",
    "\n",
    "\n",
    "once_wt = apply_wt_once(data=sp500_data['Close_Price'],\n",
    "                        wavelet=current_wavelet,\n",
    "                        level=current_level,\n",
    "                        mode=current_mode)\n",
    "\n",
    "twice_wt = apply_wt_twice(data=sp500_data['Close_Price'],\n",
    "                        wavelet=current_wavelet,\n",
    "                        level=current_level,\n",
    "                        mode=current_mode)\n",
    "\n",
    "plt.plot(twice_wt)\n",
    "plt.plot(once_wt, alpha=0.6)\n",
    "plt.plot(sp500_data['Close_Price'], alpha=.3)\n",
    "plt.show()\n",
    "\n",
    "print(\"accuracy: {}\".format(get_accuracy(twice_wt[:-1], sp500_data['Close_Price'])))\n",
    "# the WT adds one points, hence why we have to ignore the last or first points of the resulting vector"
   ]
  },
  {
   "cell_type": "code",
   "execution_count": 172,
   "metadata": {},
   "outputs": [],
   "source": [
    "def apply_wt_twice_on_dataset(dataset, wavelet='haar', level=2, mode='constant'):\n",
    "    \"\"\"\n",
    "        This function applies the WT of selected type, level and mode\n",
    "        twice on each columns of the data, ignoring the first two columns\n",
    "        (Ntime and time).\n",
    "        \n",
    "        Args:\n",
    "            dataset: structured np.array\n",
    "            wavelet: type of wavelet\n",
    "            level: number of levels for the WT\n",
    "            mode: mode of WT to deal with both ends of the data\n",
    "            \n",
    "        Return:\n",
    "            A dataset with same number of columns as the original \n",
    "            but which have been applied the WT twice. Note that\n",
    "            columns named 'Ntime' and 'time' are not\n",
    "    \"\"\"\n",
    "    ignored_col_names = ('Ntime', 'time') # from the SP500 dataset, might need some tweaking\n",
    "    col_names = dataset.dtype.names\n",
    "\n",
    "    results = np.zeros_like(dataset)\n",
    "    results[ignored_col_names[0]] = dataset[ignored_col_names[0]]\n",
    "    results[ignored_col_names[1]] = dataset[ignored_col_names[1]]\n",
    "    \n",
    "    for name in col_names:\n",
    "        if name not in ignored_col_names:\n",
    "            temp = apply_wt_twice(\n",
    "                                dataset[name],\n",
    "                                wavelet=wavelet,\n",
    "                                level=level,\n",
    "                                mode=mode\n",
    "                                 )\n",
    "            results[name] = temp[:-1]\n",
    "        \n",
    "            if name is 'Close_Price':\n",
    "                print(results[name])\n",
    "    return results\n",
    " \n",
    "    \n",
    "# Applying this on the SP500 dataset:\n",
    "res = apply_wt_twice_on_dataset(sp500_data,\n",
    "                                wavelet=current_wavelet,\n",
    "                                level=current_level,\n",
    "                                mode=current_mode)"
   ]
  }
 ],
 "metadata": {
  "kernelspec": {
   "display_name": "Python 3",
   "language": "python",
   "name": "python3"
  },
  "language_info": {
   "codemirror_mode": {
    "name": "ipython",
    "version": 3
   },
   "file_extension": ".py",
   "mimetype": "text/x-python",
   "name": "python",
   "nbconvert_exporter": "python",
   "pygments_lexer": "ipython3",
   "version": "3.6.0"
  }
 },
 "nbformat": 4,
 "nbformat_minor": 2
}
