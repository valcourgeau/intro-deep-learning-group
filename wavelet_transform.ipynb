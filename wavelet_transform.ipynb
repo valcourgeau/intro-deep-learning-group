{
 "cells": [
  {
   "cell_type": "code",
   "execution_count": 44,
   "metadata": {},
   "outputs": [],
   "source": [
    "import pywt\n",
    "import numpy as np\n",
    "import matplotlib.pyplot as plt"
   ]
  },
  {
   "cell_type": "code",
   "execution_count": 45,
   "metadata": {},
   "outputs": [
    {
     "name": "stdout",
     "output_type": "stream",
     "text": [
      "('Ntime', 'time', 'Close_Price', 'Open_Price', 'High_Price', 'Low_Price', 'Volume', 'MACD', 'CCI', 'ATR', 'BOLL', 'EMA20', 'MA10', 'MTM6', 'MA5', 'MTM12', 'ROC', 'SMI', 'WVAD', 'US_Dollar_Index', 'Federal_Fund_Rate')\n"
     ]
    }
   ],
   "source": [
    "sp500_data = np.genfromtxt('data/sp500_index_data.csv', delimiter=',', dtype=float, names=True)\n",
    "print(sp500_data.dtype.names)"
   ]
  },
  {
   "cell_type": "code",
   "execution_count": 58,
   "metadata": {},
   "outputs": [],
   "source": [
    "haar_wavelet = pywt.Wavelet('haar')"
   ]
  },
  {
   "cell_type": "code",
   "execution_count": 70,
   "metadata": {},
   "outputs": [
    {
     "name": "stdout",
     "output_type": "stream",
     "text": [
      "Size 0-th component: 520\n",
      "Size 1-th component: 520\n",
      "Size 2-th component: 1040\n"
     ]
    }
   ],
   "source": [
    "max_level = 2\n",
    "haar_dwt = pywt.wavedec(sp500_data['Close_Price'], wavelet=haar_wavelet, level=max_level, mode='periodization')\n",
    "for i in range(max_level+1):\n",
    "    print(str(\"Size \" + str(i) + \"-th component: {}\").format(haar_dwt[i].size))\n",
    "plt.show()"
   ]
  },
  {
   "cell_type": "code",
   "execution_count": 80,
   "metadata": {},
   "outputs": [
    {
     "ename": "SyntaxError",
     "evalue": "invalid syntax (<ipython-input-80-deea0d865f97>, line 1)",
     "output_type": "error",
     "traceback": [
      "\u001b[1;36m  File \u001b[1;32m\"<ipython-input-80-deea0d865f97>\"\u001b[1;36m, line \u001b[1;32m1\u001b[0m\n\u001b[1;33m    plt.plot(pywt.idwt(haar_dwt[0]0, None, 'haar', mode='symmetric'))\u001b[0m\n\u001b[1;37m                                  ^\u001b[0m\n\u001b[1;31mSyntaxError\u001b[0m\u001b[1;31m:\u001b[0m invalid syntax\n"
     ]
    }
   ],
   "source": [
    "plt.plot(pywt.idwt(haar_dwt[0]0, None, 'haar', mode='symmetric'))\n",
    "plt.plot(sp500_data['Close_Price'], alpha = 0.6)\n",
    "plt.show()"
   ]
  },
  {
   "cell_type": "code",
   "execution_count": null,
   "metadata": {},
   "outputs": [],
   "source": [
    "np.subtract"
   ]
  },
  {
   "cell_type": "code",
   "execution_count": 66,
   "metadata": {},
   "outputs": [
    {
     "data": {
      "text/plain": [
       "array([ 1284.91,  1261.52,  1262.9 , ...,  2151.13,  2168.27,  2168.27])"
      ]
     },
     "execution_count": 66,
     "metadata": {},
     "output_type": "execute_result"
    }
   ],
   "source": [
    "pywt.waverec(haar_dwt, haar_wavelet)\n",
    "#sp500_data['Close_Price']"
   ]
  }
 ],
 "metadata": {
  "kernelspec": {
   "display_name": "Python 3",
   "language": "python",
   "name": "python3"
  },
  "language_info": {
   "codemirror_mode": {
    "name": "ipython",
    "version": 3
   },
   "file_extension": ".py",
   "mimetype": "text/x-python",
   "name": "python",
   "nbconvert_exporter": "python",
   "pygments_lexer": "ipython3",
   "version": "3.6.0"
  }
 },
 "nbformat": 4,
 "nbformat_minor": 2
}
