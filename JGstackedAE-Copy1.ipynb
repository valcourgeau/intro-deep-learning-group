{
 "cells": [
  {
   "cell_type": "code",
   "execution_count": 279,
   "metadata": {
    "collapsed": true
   },
   "outputs": [],
   "source": [
    "import tensorflow as tf\n",
    "import numpy as np\n",
    "import numpy.random as rnd\n",
    "import os\n",
    "import sys\n",
    "\n",
    "# to make this notebook's output stable across runs\n",
    "def reset_graph(seed=42):\n",
    "    tf.reset_default_graph()\n",
    "    tf.set_random_seed(seed)\n",
    "    np.random.seed(seed)\n"
   ]
  },
  {
   "cell_type": "code",
   "execution_count": 280,
   "metadata": {
    "collapsed": true
   },
   "outputs": [],
   "source": [
    "reset_graph()\n",
    "\n",
    "from functools import partial\n",
    "\n",
    "def train_autoencoder(X_train, n_neurons, n_epochs, batch_size,\n",
    "                      learning_rate = 0.01, l2_reg = 0.0005,\n",
    "                      activation=tf.nn.elu, seed=42):\n",
    "    graph = tf.Graph()\n",
    "    with graph.as_default():\n",
    "        tf.set_random_seed(seed)\n",
    "\n",
    "        n_inputs = X_train.shape[1]\n",
    "\n",
    "        X = tf.placeholder(tf.float32, shape=[None, n_inputs])\n",
    "        \n",
    "        my_dense_layer = partial(\n",
    "            tf.layers.dense,\n",
    "            activation=activation,\n",
    "            kernel_initializer=tf.contrib.layers.variance_scaling_initializer(),\n",
    "            kernel_regularizer=tf.contrib.layers.l2_regularizer(l2_reg))\n",
    "\n",
    "        hidden = my_dense_layer(X, n_neurons, name=\"hidden\")\n",
    "        outputs = my_dense_layer(hidden, n_inputs, activation=None, name=\"outputs\")\n",
    "\n",
    "        reconstruction_loss = tf.reduce_mean(tf.square(outputs - X))\n",
    "\n",
    "        reg_losses = tf.get_collection(tf.GraphKeys.REGULARIZATION_LOSSES)\n",
    "        loss = tf.add_n([reconstruction_loss] + reg_losses)\n",
    "\n",
    "        optimizer = tf.train.AdamOptimizer(learning_rate)\n",
    "        training_op = optimizer.minimize(loss)\n",
    "\n",
    "        init = tf.global_variables_initializer()\n",
    "\n",
    "    with tf.Session(graph=graph) as sess:\n",
    "        init.run()\n",
    "        for epoch in range(n_epochs):\n",
    "            n_batches = len(X_train) // batch_size\n",
    "            for iteration in range(n_batches):\n",
    "                #print(\"\\r{}%\".format(100 * iteration // n_batches), end=\"\")\n",
    "                sys.stdout.flush()\n",
    "                indices = rnd.permutation(len(X_train))[:batch_size]\n",
    "                X_batch = X_train[indices]\n",
    "                sess.run(training_op, feed_dict={X: X_batch})\n",
    "            loss_train = reconstruction_loss.eval(feed_dict={X: X_batch})\n",
    "            if epoch % 500 == 0:\n",
    "                print(\"\\r{}\".format(epoch), \"Train MSE:\", loss_train)\n",
    "        params = dict([(var.name, var.eval()) for var in tf.get_collection(tf.GraphKeys.TRAINABLE_VARIABLES)])\n",
    "        hidden_val = hidden.eval(feed_dict={X: X_train})\n",
    "        return hidden_val, params[\"hidden/kernel:0\"], params[\"hidden/bias:0\"], params[\"outputs/kernel:0\"], params[\"outputs/bias:0\"]"
   ]
  },
  {
   "cell_type": "code",
   "execution_count": 281,
   "metadata": {},
   "outputs": [
    {
     "name": "stdout",
     "output_type": "stream",
     "text": [
      "(2079, 21)\n"
     ]
    }
   ],
   "source": [
    "x_train = np.genfromtxt('data/data_wt/sp500_wt.csv', delimiter=',', dtype=None, names=True)\n",
    "x_train = [list(item) for item in x_train]\n",
    "x_train = np.array(x_train)\n",
    "print(x_train.shape)"
   ]
  },
  {
   "cell_type": "code",
   "execution_count": 282,
   "metadata": {
    "collapsed": true
   },
   "outputs": [],
   "source": [
    "def normalise_dataset(dataset):\n",
    "    n_cols = dataset.shape[1]\n",
    "    norm_dataset = np.zeros_like(dataset)\n",
    "    for i in range(n_cols): \n",
    "        mean = np.sum(dataset[:,i])/len(dataset[:,i])\n",
    "        std_dev = np.dot(dataset[:,i]-mean, dataset[:,i]-mean)/(len(dataset[:,i]) - 1)\n",
    "        std_dev = np.sqrt(std_dev)\n",
    "        norm_dataset[:,i] = (dataset[:,i] - mean) / std_dev\n",
    "\n",
    "    return norm_dataset\n",
    "\n",
    "# Normalised dataset\n",
    "x_train = normalise_dataset(x_train)"
   ]
  },
  {
   "cell_type": "code",
   "execution_count": 283,
   "metadata": {},
   "outputs": [
    {
     "name": "stdout",
     "output_type": "stream",
     "text": [
      "0 Train MSE: 0.185488\n",
      "500 Train MSE: 0.000546614\n",
      "1000 Train MSE: 0.00039945\n",
      "1500 Train MSE: 0.000534147\n",
      "2000 Train MSE: 0.000406173\n",
      "2500 Train MSE: 0.000452525\n",
      "3000 Train MSE: 0.000676329\n",
      "3500 Train MSE: 0.000473096\n",
      "4000 Train MSE: 0.000411585\n",
      "4500 Train MSE: 0.000433776\n",
      "0 Train MSE: 0.49118\n",
      "500 Train MSE: 0.000449119\n",
      "1000 Train MSE: 0.000516467\n",
      "1500 Train MSE: 0.000466427\n",
      "2000 Train MSE: 0.00060745\n",
      "2500 Train MSE: 0.000377359\n",
      "3000 Train MSE: 0.000566011\n",
      "3500 Train MSE: 0.000452644\n",
      "4000 Train MSE: 0.000428649\n",
      "4500 Train MSE: 0.000405135\n",
      "0 Train MSE: 0.914629\n",
      "500 Train MSE: 0.000452118\n",
      "1000 Train MSE: 0.000416644\n",
      "1500 Train MSE: 0.00044399\n",
      "2000 Train MSE: 0.000607588\n",
      "2500 Train MSE: 0.000475552\n",
      "3000 Train MSE: 0.0004241\n",
      "3500 Train MSE: 0.00054936\n",
      "4000 Train MSE: 0.000404773\n",
      "4500 Train MSE: 0.000408764\n",
      "0 Train MSE: 2.36133\n",
      "500 Train MSE: 0.0161436\n",
      "1000 Train MSE: 0.0116998\n",
      "1500 Train MSE: 0.0137815\n",
      "2000 Train MSE: 0.0143039\n",
      "2500 Train MSE: 0.0120811\n",
      "3000 Train MSE: 0.0123962\n",
      "3500 Train MSE: 0.0147957\n",
      "4000 Train MSE: 0.0105878\n",
      "4500 Train MSE: 0.0138421\n"
     ]
    }
   ],
   "source": [
    "# check this \n",
    "BATCH_SIZE = 60\n",
    "N_EPOCHS = 5000\n",
    "ACTIVATION = tf.nn.relu\n",
    "LEARNING_RATE = 0.005\n",
    "\n",
    "hidden_output1, W1, b1, W8, b8 = train_autoencoder(x_train, n_neurons=50, \n",
    "                                                   n_epochs=N_EPOCHS, \n",
    "                                                   batch_size=BATCH_SIZE, \n",
    "                                                   learning_rate=LEARNING_RATE,\n",
    "                                                   activation=ACTIVATION)\n",
    "hidden_output2, W2, b2, W7, b7 = train_autoencoder(hidden_output1, n_neurons=30, \n",
    "                                                   n_epochs=N_EPOCHS, \n",
    "                                                   batch_size=BATCH_SIZE, \n",
    "                                                   learning_rate=LEARNING_RATE,\n",
    "                                                   activation=ACTIVATION)\n",
    "hidden_output3, W3, b3, W6, b6 = train_autoencoder(hidden_output2, n_neurons=20, \n",
    "                                                   n_epochs=N_EPOCHS, \n",
    "                                                   batch_size=BATCH_SIZE, \n",
    "                                                   learning_rate=LEARNING_RATE,\n",
    "                                                   activation=ACTIVATION)\n",
    "o4, W4, b4, W5, b5 = train_autoencoder(hidden_output3,n_neurons=10, \n",
    "                                                   n_epochs=N_EPOCHS, \n",
    "                                                   batch_size=BATCH_SIZE, \n",
    "                                                   learning_rate=LEARNING_RATE,\n",
    "                                                   activation=ACTIVATION)"
   ]
  },
  {
   "cell_type": "code",
   "execution_count": 284,
   "metadata": {
    "collapsed": true
   },
   "outputs": [],
   "source": [
    "reset_graph()\n",
    "\n",
    "n_inputs = 1*21\n",
    "\n",
    "X = tf.placeholder(tf.float32, shape=[None, n_inputs])\n",
    "hidden1 = tf.nn.sigmoid(tf.matmul(X, W1) + b1)\n",
    "hidden2 = tf.nn.sigmoid(tf.matmul(hidden1, W2) + b2)\n",
    "hidden3 = tf.nn.sigmoid(tf.matmul(hidden2, W3) + b3)\n",
    "hidden4 = tf.nn.sigmoid(tf.matmul(hidden3, W4) + b4)\n",
    "hidden5 = tf.nn.sigmoid(tf.matmul(hidden4, W5) + b5)\n",
    "hidden6 = tf.nn.sigmoid(tf.matmul(hidden5, W6) + b6)\n",
    "hidden7 = tf.nn.sigmoid(tf.matmul(hidden6, W7) + b7)\n",
    "outputs = tf.matmul(hidden7, W8) + b8"
   ]
  },
  {
   "cell_type": "code",
   "execution_count": 285,
   "metadata": {
    "collapsed": true
   },
   "outputs": [],
   "source": [
    "#unnecessary - should be the same as o4 but just to check\n",
    "with tf.Session() as sess:\n",
    "        latent_val = hidden4.eval(feed_dict={X: x_train})\n",
    "        \n",
    "# Normalise output of SAEs\n",
    "latent_val = normalise_dataset(latent_val)"
   ]
  },
  {
   "cell_type": "code",
   "execution_count": 286,
   "metadata": {},
   "outputs": [
    {
     "data": {
      "text/html": [
       "<div>\n",
       "<style>\n",
       "    .dataframe thead tr:only-child th {\n",
       "        text-align: right;\n",
       "    }\n",
       "\n",
       "    .dataframe thead th {\n",
       "        text-align: left;\n",
       "    }\n",
       "\n",
       "    .dataframe tbody tr th {\n",
       "        vertical-align: top;\n",
       "    }\n",
       "</style>\n",
       "<table border=\"1\" class=\"dataframe\">\n",
       "  <thead>\n",
       "    <tr style=\"text-align: right;\">\n",
       "      <th></th>\n",
       "      <th>0</th>\n",
       "      <th>1</th>\n",
       "      <th>2</th>\n",
       "      <th>3</th>\n",
       "      <th>4</th>\n",
       "      <th>5</th>\n",
       "      <th>6</th>\n",
       "      <th>7</th>\n",
       "      <th>8</th>\n",
       "      <th>9</th>\n",
       "    </tr>\n",
       "  </thead>\n",
       "  <tbody>\n",
       "    <tr>\n",
       "      <th>0</th>\n",
       "      <td>1.099889</td>\n",
       "      <td>1.322490</td>\n",
       "      <td>4.672293</td>\n",
       "      <td>-1.125308</td>\n",
       "      <td>-0.694918</td>\n",
       "      <td>0.316639</td>\n",
       "      <td>-0.347425</td>\n",
       "      <td>-1.714756</td>\n",
       "      <td>1.799987</td>\n",
       "      <td>-2.047545</td>\n",
       "    </tr>\n",
       "    <tr>\n",
       "      <th>1</th>\n",
       "      <td>1.099889</td>\n",
       "      <td>1.322535</td>\n",
       "      <td>4.672249</td>\n",
       "      <td>-1.125210</td>\n",
       "      <td>-0.694918</td>\n",
       "      <td>0.316769</td>\n",
       "      <td>-0.347522</td>\n",
       "      <td>-1.714756</td>\n",
       "      <td>1.799566</td>\n",
       "      <td>-2.047157</td>\n",
       "    </tr>\n",
       "    <tr>\n",
       "      <th>2</th>\n",
       "      <td>1.099842</td>\n",
       "      <td>1.322535</td>\n",
       "      <td>4.672206</td>\n",
       "      <td>-1.125013</td>\n",
       "      <td>-0.694874</td>\n",
       "      <td>0.316963</td>\n",
       "      <td>-0.347571</td>\n",
       "      <td>-1.714693</td>\n",
       "      <td>1.799061</td>\n",
       "      <td>-2.046898</td>\n",
       "    </tr>\n",
       "    <tr>\n",
       "      <th>3</th>\n",
       "      <td>1.099747</td>\n",
       "      <td>1.322691</td>\n",
       "      <td>4.671947</td>\n",
       "      <td>-1.124229</td>\n",
       "      <td>-0.694785</td>\n",
       "      <td>0.317481</td>\n",
       "      <td>-0.347959</td>\n",
       "      <td>-1.714503</td>\n",
       "      <td>1.796956</td>\n",
       "      <td>-2.045474</td>\n",
       "    </tr>\n",
       "    <tr>\n",
       "      <th>4</th>\n",
       "      <td>1.219434</td>\n",
       "      <td>1.307575</td>\n",
       "      <td>4.473411</td>\n",
       "      <td>-0.649001</td>\n",
       "      <td>-0.132694</td>\n",
       "      <td>-1.137403</td>\n",
       "      <td>0.533356</td>\n",
       "      <td>-0.523264</td>\n",
       "      <td>0.799891</td>\n",
       "      <td>-1.657882</td>\n",
       "    </tr>\n",
       "  </tbody>\n",
       "</table>\n",
       "</div>"
      ],
      "text/plain": [
       "          0         1         2         3         4         5         6  \\\n",
       "0  1.099889  1.322490  4.672293 -1.125308 -0.694918  0.316639 -0.347425   \n",
       "1  1.099889  1.322535  4.672249 -1.125210 -0.694918  0.316769 -0.347522   \n",
       "2  1.099842  1.322535  4.672206 -1.125013 -0.694874  0.316963 -0.347571   \n",
       "3  1.099747  1.322691  4.671947 -1.124229 -0.694785  0.317481 -0.347959   \n",
       "4  1.219434  1.307575  4.473411 -0.649001 -0.132694 -1.137403  0.533356   \n",
       "\n",
       "          7         8         9  \n",
       "0 -1.714756  1.799987 -2.047545  \n",
       "1 -1.714756  1.799566 -2.047157  \n",
       "2 -1.714693  1.799061 -2.046898  \n",
       "3 -1.714503  1.796956 -2.045474  \n",
       "4 -0.523264  0.799891 -1.657882  "
      ]
     },
     "execution_count": 286,
     "metadata": {},
     "output_type": "execute_result"
    }
   ],
   "source": [
    "import pandas as pd\n",
    "latent_out = pd.DataFrame(latent_val).head() #latent_val\n",
    "latent_out"
   ]
  },
  {
   "cell_type": "code",
   "execution_count": 287,
   "metadata": {
    "collapsed": true
   },
   "outputs": [],
   "source": [
    "# Save output in .csv file\n",
    "latent_out.to_csv('auto_out.csv', header=False, index=False)"
   ]
  },
  {
   "cell_type": "code",
   "execution_count": 288,
   "metadata": {},
   "outputs": [],
   "source": [
    "import keras\n",
    "from keras.models import Sequential\n",
    "from keras.optimizers import SGD\n",
    "from keras.layers import LSTM, Dense\n",
    "import numpy as np"
   ]
  },
  {
   "cell_type": "code",
   "execution_count": 289,
   "metadata": {
    "collapsed": true
   },
   "outputs": [],
   "source": [
    "# convert an array of values into a dataset matrix\n",
    "def create_dataset(trainX, trainY, look_back=1):\n",
    "    dataX, dataY = [], []\n",
    "    for i in range(len(trainX)-look_back-1):\n",
    "        a = trainX[i:(i+look_back), :]\n",
    "        dataX.append(a)\n",
    "        dataY.append(trainY[i + look_back])\n",
    "    return np.array(dataX), np.array(dataY)"
   ]
  },
  {
   "cell_type": "code",
   "execution_count": 300,
   "metadata": {},
   "outputs": [],
   "source": [
    "from IPython.display import clear_output\n",
    "\n",
    "# Live plot for loss during training\n",
    "# Taken from: https://gist.github.com/stared/dfb4dfaf6d9a8501cd1cc8b8cb806d2e\n",
    "class PlotLosses(keras.callbacks.Callback):\n",
    "    def on_train_begin(self, logs={}):\n",
    "        self.i = 0\n",
    "        self.x = []\n",
    "        self.losses = []\n",
    "        self.val_losses = []\n",
    "        \n",
    "        self.fig = plt.figure()\n",
    "        \n",
    "        self.logs = []\n",
    "\n",
    "    def on_epoch_end(self, epoch, logs={}):\n",
    "        \n",
    "        # Reset the plot to only have the last 100 epochs\n",
    "        if len(self.x) % 100 == 0:\n",
    "            self.on_train_begin()\n",
    "        self.logs.append(logs)\n",
    "        self.x.append(self.i)\n",
    "        self.losses.append(logs.get('loss'))\n",
    "        self.val_losses.append(logs.get('val_loss'))\n",
    "        self.i += 1\n",
    "        \n",
    "        clear_output(wait=True)\n",
    "        plt.plot(self.x, self.losses, label=\"loss\")\n",
    "        plt.plot(self.x, self.val_losses, label=\"val_loss\")\n",
    "        plt.legend()\n",
    "        plt.show();\n",
    "        \n",
    "plot_losses = PlotLosses()"
   ]
  },
  {
   "cell_type": "code",
   "execution_count": 301,
   "metadata": {
    "collapsed": true
   },
   "outputs": [],
   "source": [
    "y_lazy = pd.read_csv('data/sp500_index_data.csv')['Close Price']\n",
    "y_train = y_lazy.shift(-1)\n",
    "\n",
    "#this means we have an na for the last value training is latent_val, target y_train\n",
    "#get the saved latent values"
   ]
  },
  {
   "cell_type": "code",
   "execution_count": 302,
   "metadata": {},
   "outputs": [],
   "source": [
    "latent_val\n",
    "latest_val1 = latent_val"
   ]
  },
  {
   "cell_type": "code",
   "execution_count": 303,
   "metadata": {},
   "outputs": [
    {
     "data": {
      "text/plain": [
       "array([[ 0.1467, -0.3122,  2.0027, ...,  0.4166, -0.5088, -0.2294],\n",
       "       [ 0.1467, -0.3122,  2.0027, ...,  0.4166, -0.5088, -0.2294],\n",
       "       [ 0.1467, -0.3122,  2.0027, ...,  0.4146, -0.5085, -0.2294],\n",
       "       ..., \n",
       "       [ 1.5091, -1.4456, -0.3029, ..., -1.6304,  1.6401,  1.6033],\n",
       "       [ 1.5091, -1.4456, -0.3029, ..., -1.6304,  1.6402,  1.6033],\n",
       "       [ 1.5091, -1.4456, -0.3029, ..., -1.6304,  1.6402,  1.6033]])"
      ]
     },
     "execution_count": 303,
     "metadata": {},
     "output_type": "execute_result"
    }
   ],
   "source": [
    "latent_val = np.array(pd.read_csv('sae_output_5000.csv'))\n",
    "latent_val"
   ]
  },
  {
   "cell_type": "code",
   "execution_count": 304,
   "metadata": {},
   "outputs": [],
   "source": [
    "look_back =4\n",
    "trainX = latent_val[:-1]\n",
    "trainX = trainX[:round(0.9*len(trainX))]\n",
    "testX = trainX[round(0.9*len(trainX)):]\n",
    "\n",
    "trainY = np.array(y_train[:-1])\n",
    "trainY = trainY[:round(0.9*len(trainY))]\n",
    "testY = trainY[round(0.9*len(trainY)):]\n",
    "\n",
    "trainX, trainY = create_dataset(trainX, trainY, look_back)\n",
    "testX, testY = create_dataset(testX, testY, look_back) "
   ]
  },
  {
   "cell_type": "code",
   "execution_count": 305,
   "metadata": {},
   "outputs": [
    {
     "name": "stdout",
     "output_type": "stream",
     "text": [
      "Train on 1864 samples, validate on 182 samples\n",
      "Epoch 1/2000\n"
     ]
    },
    {
     "ename": "TypeError",
     "evalue": "Cannot interpret feed_dict key as Tensor: Tensor Tensor(\"lstm_5_input:0\", shape=(?, 4, 10), dtype=float32) is not an element of this graph.",
     "output_type": "error",
     "traceback": [
      "\u001b[0;31m---------------------------------------------------------------------------\u001b[0m",
      "\u001b[0;31mValueError\u001b[0m                                Traceback (most recent call last)",
      "\u001b[0;32m/Users/johngoodacre/anaconda/envs/py36/lib/python3.6/site-packages/tensorflow/python/client/session.py\u001b[0m in \u001b[0;36m_run\u001b[0;34m(self, handle, fetches, feed_dict, options, run_metadata)\u001b[0m\n\u001b[1;32m    929\u001b[0m             subfeed_t = self.graph.as_graph_element(subfeed, allow_tensor=True,\n\u001b[0;32m--> 930\u001b[0;31m                                                     allow_operation=False)\n\u001b[0m\u001b[1;32m    931\u001b[0m           \u001b[0;32mexcept\u001b[0m \u001b[0mException\u001b[0m \u001b[0;32mas\u001b[0m \u001b[0me\u001b[0m\u001b[0;34m:\u001b[0m\u001b[0;34m\u001b[0m\u001b[0m\n",
      "\u001b[0;32m/Users/johngoodacre/anaconda/envs/py36/lib/python3.6/site-packages/tensorflow/python/framework/ops.py\u001b[0m in \u001b[0;36mas_graph_element\u001b[0;34m(self, obj, allow_tensor, allow_operation)\u001b[0m\n\u001b[1;32m   2413\u001b[0m     \u001b[0;32mwith\u001b[0m \u001b[0mself\u001b[0m\u001b[0;34m.\u001b[0m\u001b[0m_lock\u001b[0m\u001b[0;34m:\u001b[0m\u001b[0;34m\u001b[0m\u001b[0m\n\u001b[0;32m-> 2414\u001b[0;31m       \u001b[0;32mreturn\u001b[0m \u001b[0mself\u001b[0m\u001b[0;34m.\u001b[0m\u001b[0m_as_graph_element_locked\u001b[0m\u001b[0;34m(\u001b[0m\u001b[0mobj\u001b[0m\u001b[0;34m,\u001b[0m \u001b[0mallow_tensor\u001b[0m\u001b[0;34m,\u001b[0m \u001b[0mallow_operation\u001b[0m\u001b[0;34m)\u001b[0m\u001b[0;34m\u001b[0m\u001b[0m\n\u001b[0m\u001b[1;32m   2415\u001b[0m \u001b[0;34m\u001b[0m\u001b[0m\n",
      "\u001b[0;32m/Users/johngoodacre/anaconda/envs/py36/lib/python3.6/site-packages/tensorflow/python/framework/ops.py\u001b[0m in \u001b[0;36m_as_graph_element_locked\u001b[0;34m(self, obj, allow_tensor, allow_operation)\u001b[0m\n\u001b[1;32m   2492\u001b[0m       \u001b[0;32mif\u001b[0m \u001b[0mobj\u001b[0m\u001b[0;34m.\u001b[0m\u001b[0mgraph\u001b[0m \u001b[0;32mis\u001b[0m \u001b[0;32mnot\u001b[0m \u001b[0mself\u001b[0m\u001b[0;34m:\u001b[0m\u001b[0;34m\u001b[0m\u001b[0m\n\u001b[0;32m-> 2493\u001b[0;31m         \u001b[0;32mraise\u001b[0m \u001b[0mValueError\u001b[0m\u001b[0;34m(\u001b[0m\u001b[0;34m\"Tensor %s is not an element of this graph.\"\u001b[0m \u001b[0;34m%\u001b[0m \u001b[0mobj\u001b[0m\u001b[0;34m)\u001b[0m\u001b[0;34m\u001b[0m\u001b[0m\n\u001b[0m\u001b[1;32m   2494\u001b[0m       \u001b[0;32mreturn\u001b[0m \u001b[0mobj\u001b[0m\u001b[0;34m\u001b[0m\u001b[0m\n",
      "\u001b[0;31mValueError\u001b[0m: Tensor Tensor(\"lstm_5_input:0\", shape=(?, 4, 10), dtype=float32) is not an element of this graph.",
      "\nDuring handling of the above exception, another exception occurred:\n",
      "\u001b[0;31mTypeError\u001b[0m                                 Traceback (most recent call last)",
      "\u001b[0;32m<ipython-input-305-498de8879946>\u001b[0m in \u001b[0;36m<module>\u001b[0;34m()\u001b[0m\n\u001b[1;32m     17\u001b[0m \u001b[0mmodel\u001b[0m\u001b[0;34m.\u001b[0m\u001b[0mcompile\u001b[0m\u001b[0;34m(\u001b[0m\u001b[0mloss\u001b[0m\u001b[0;34m=\u001b[0m\u001b[0;34m'mean_squared_error'\u001b[0m\u001b[0;34m,\u001b[0m \u001b[0moptimizer\u001b[0m\u001b[0;34m=\u001b[0m\u001b[0mopti_adam\u001b[0m\u001b[0;34m)\u001b[0m\u001b[0;34m\u001b[0m\u001b[0m\n\u001b[1;32m     18\u001b[0m history = model.fit(trainX, trainY, epochs=EPOCHS, batch_size=BATCH_SIZE,\n\u001b[0;32m---> 19\u001b[0;31m           verbose=1, callbacks=[plot_losses], validation_data=(testX, testY))\n\u001b[0m",
      "\u001b[0;32m/Users/johngoodacre/anaconda/envs/py36/lib/python3.6/site-packages/keras/models.py\u001b[0m in \u001b[0;36mfit\u001b[0;34m(self, x, y, batch_size, epochs, verbose, callbacks, validation_split, validation_data, shuffle, class_weight, sample_weight, initial_epoch, **kwargs)\u001b[0m\n\u001b[1;32m    861\u001b[0m                               \u001b[0mclass_weight\u001b[0m\u001b[0;34m=\u001b[0m\u001b[0mclass_weight\u001b[0m\u001b[0;34m,\u001b[0m\u001b[0;34m\u001b[0m\u001b[0m\n\u001b[1;32m    862\u001b[0m                               \u001b[0msample_weight\u001b[0m\u001b[0;34m=\u001b[0m\u001b[0msample_weight\u001b[0m\u001b[0;34m,\u001b[0m\u001b[0;34m\u001b[0m\u001b[0m\n\u001b[0;32m--> 863\u001b[0;31m                               initial_epoch=initial_epoch)\n\u001b[0m\u001b[1;32m    864\u001b[0m \u001b[0;34m\u001b[0m\u001b[0m\n\u001b[1;32m    865\u001b[0m     def evaluate(self, x, y, batch_size=32, verbose=1,\n",
      "\u001b[0;32m/Users/johngoodacre/anaconda/envs/py36/lib/python3.6/site-packages/keras/engine/training.py\u001b[0m in \u001b[0;36mfit\u001b[0;34m(self, x, y, batch_size, epochs, verbose, callbacks, validation_split, validation_data, shuffle, class_weight, sample_weight, initial_epoch, **kwargs)\u001b[0m\n\u001b[1;32m   1428\u001b[0m                               \u001b[0mval_f\u001b[0m\u001b[0;34m=\u001b[0m\u001b[0mval_f\u001b[0m\u001b[0;34m,\u001b[0m \u001b[0mval_ins\u001b[0m\u001b[0;34m=\u001b[0m\u001b[0mval_ins\u001b[0m\u001b[0;34m,\u001b[0m \u001b[0mshuffle\u001b[0m\u001b[0;34m=\u001b[0m\u001b[0mshuffle\u001b[0m\u001b[0;34m,\u001b[0m\u001b[0;34m\u001b[0m\u001b[0m\n\u001b[1;32m   1429\u001b[0m                               \u001b[0mcallback_metrics\u001b[0m\u001b[0;34m=\u001b[0m\u001b[0mcallback_metrics\u001b[0m\u001b[0;34m,\u001b[0m\u001b[0;34m\u001b[0m\u001b[0m\n\u001b[0;32m-> 1430\u001b[0;31m                               initial_epoch=initial_epoch)\n\u001b[0m\u001b[1;32m   1431\u001b[0m \u001b[0;34m\u001b[0m\u001b[0m\n\u001b[1;32m   1432\u001b[0m     \u001b[0;32mdef\u001b[0m \u001b[0mevaluate\u001b[0m\u001b[0;34m(\u001b[0m\u001b[0mself\u001b[0m\u001b[0;34m,\u001b[0m \u001b[0mx\u001b[0m\u001b[0;34m,\u001b[0m \u001b[0my\u001b[0m\u001b[0;34m,\u001b[0m \u001b[0mbatch_size\u001b[0m\u001b[0;34m=\u001b[0m\u001b[0;36m32\u001b[0m\u001b[0;34m,\u001b[0m \u001b[0mverbose\u001b[0m\u001b[0;34m=\u001b[0m\u001b[0;36m1\u001b[0m\u001b[0;34m,\u001b[0m \u001b[0msample_weight\u001b[0m\u001b[0;34m=\u001b[0m\u001b[0;32mNone\u001b[0m\u001b[0;34m)\u001b[0m\u001b[0;34m:\u001b[0m\u001b[0;34m\u001b[0m\u001b[0m\n",
      "\u001b[0;32m/Users/johngoodacre/anaconda/envs/py36/lib/python3.6/site-packages/keras/engine/training.py\u001b[0m in \u001b[0;36m_fit_loop\u001b[0;34m(self, f, ins, out_labels, batch_size, epochs, verbose, callbacks, val_f, val_ins, shuffle, callback_metrics, initial_epoch)\u001b[0m\n\u001b[1;32m   1077\u001b[0m                 \u001b[0mbatch_logs\u001b[0m\u001b[0;34m[\u001b[0m\u001b[0;34m'size'\u001b[0m\u001b[0;34m]\u001b[0m \u001b[0;34m=\u001b[0m \u001b[0mlen\u001b[0m\u001b[0;34m(\u001b[0m\u001b[0mbatch_ids\u001b[0m\u001b[0;34m)\u001b[0m\u001b[0;34m\u001b[0m\u001b[0m\n\u001b[1;32m   1078\u001b[0m                 \u001b[0mcallbacks\u001b[0m\u001b[0;34m.\u001b[0m\u001b[0mon_batch_begin\u001b[0m\u001b[0;34m(\u001b[0m\u001b[0mbatch_index\u001b[0m\u001b[0;34m,\u001b[0m \u001b[0mbatch_logs\u001b[0m\u001b[0;34m)\u001b[0m\u001b[0;34m\u001b[0m\u001b[0m\n\u001b[0;32m-> 1079\u001b[0;31m                 \u001b[0mouts\u001b[0m \u001b[0;34m=\u001b[0m \u001b[0mf\u001b[0m\u001b[0;34m(\u001b[0m\u001b[0mins_batch\u001b[0m\u001b[0;34m)\u001b[0m\u001b[0;34m\u001b[0m\u001b[0m\n\u001b[0m\u001b[1;32m   1080\u001b[0m                 \u001b[0;32mif\u001b[0m \u001b[0;32mnot\u001b[0m \u001b[0misinstance\u001b[0m\u001b[0;34m(\u001b[0m\u001b[0mouts\u001b[0m\u001b[0;34m,\u001b[0m \u001b[0mlist\u001b[0m\u001b[0;34m)\u001b[0m\u001b[0;34m:\u001b[0m\u001b[0;34m\u001b[0m\u001b[0m\n\u001b[1;32m   1081\u001b[0m                     \u001b[0mouts\u001b[0m \u001b[0;34m=\u001b[0m \u001b[0;34m[\u001b[0m\u001b[0mouts\u001b[0m\u001b[0;34m]\u001b[0m\u001b[0;34m\u001b[0m\u001b[0m\n",
      "\u001b[0;32m/Users/johngoodacre/anaconda/envs/py36/lib/python3.6/site-packages/keras/backend/tensorflow_backend.py\u001b[0m in \u001b[0;36m__call__\u001b[0;34m(self, inputs)\u001b[0m\n\u001b[1;32m   2266\u001b[0m         updated = session.run(self.outputs + [self.updates_op],\n\u001b[1;32m   2267\u001b[0m                               \u001b[0mfeed_dict\u001b[0m\u001b[0;34m=\u001b[0m\u001b[0mfeed_dict\u001b[0m\u001b[0;34m,\u001b[0m\u001b[0;34m\u001b[0m\u001b[0m\n\u001b[0;32m-> 2268\u001b[0;31m                               **self.session_kwargs)\n\u001b[0m\u001b[1;32m   2269\u001b[0m         \u001b[0;32mreturn\u001b[0m \u001b[0mupdated\u001b[0m\u001b[0;34m[\u001b[0m\u001b[0;34m:\u001b[0m\u001b[0mlen\u001b[0m\u001b[0;34m(\u001b[0m\u001b[0mself\u001b[0m\u001b[0;34m.\u001b[0m\u001b[0moutputs\u001b[0m\u001b[0;34m)\u001b[0m\u001b[0;34m]\u001b[0m\u001b[0;34m\u001b[0m\u001b[0m\n\u001b[1;32m   2270\u001b[0m \u001b[0;34m\u001b[0m\u001b[0m\n",
      "\u001b[0;32m/Users/johngoodacre/anaconda/envs/py36/lib/python3.6/site-packages/tensorflow/python/client/session.py\u001b[0m in \u001b[0;36mrun\u001b[0;34m(self, fetches, feed_dict, options, run_metadata)\u001b[0m\n\u001b[1;32m    776\u001b[0m     \u001b[0;32mtry\u001b[0m\u001b[0;34m:\u001b[0m\u001b[0;34m\u001b[0m\u001b[0m\n\u001b[1;32m    777\u001b[0m       result = self._run(None, fetches, feed_dict, options_ptr,\n\u001b[0;32m--> 778\u001b[0;31m                          run_metadata_ptr)\n\u001b[0m\u001b[1;32m    779\u001b[0m       \u001b[0;32mif\u001b[0m \u001b[0mrun_metadata\u001b[0m\u001b[0;34m:\u001b[0m\u001b[0;34m\u001b[0m\u001b[0m\n\u001b[1;32m    780\u001b[0m         \u001b[0mproto_data\u001b[0m \u001b[0;34m=\u001b[0m \u001b[0mtf_session\u001b[0m\u001b[0;34m.\u001b[0m\u001b[0mTF_GetBuffer\u001b[0m\u001b[0;34m(\u001b[0m\u001b[0mrun_metadata_ptr\u001b[0m\u001b[0;34m)\u001b[0m\u001b[0;34m\u001b[0m\u001b[0m\n",
      "\u001b[0;32m/Users/johngoodacre/anaconda/envs/py36/lib/python3.6/site-packages/tensorflow/python/client/session.py\u001b[0m in \u001b[0;36m_run\u001b[0;34m(self, handle, fetches, feed_dict, options, run_metadata)\u001b[0m\n\u001b[1;32m    931\u001b[0m           \u001b[0;32mexcept\u001b[0m \u001b[0mException\u001b[0m \u001b[0;32mas\u001b[0m \u001b[0me\u001b[0m\u001b[0;34m:\u001b[0m\u001b[0;34m\u001b[0m\u001b[0m\n\u001b[1;32m    932\u001b[0m             raise TypeError('Cannot interpret feed_dict key as Tensor: '\n\u001b[0;32m--> 933\u001b[0;31m                             + e.args[0])\n\u001b[0m\u001b[1;32m    934\u001b[0m \u001b[0;34m\u001b[0m\u001b[0m\n\u001b[1;32m    935\u001b[0m           \u001b[0;32mif\u001b[0m \u001b[0misinstance\u001b[0m\u001b[0;34m(\u001b[0m\u001b[0msubfeed_val\u001b[0m\u001b[0;34m,\u001b[0m \u001b[0mops\u001b[0m\u001b[0;34m.\u001b[0m\u001b[0mTensor\u001b[0m\u001b[0;34m)\u001b[0m\u001b[0;34m:\u001b[0m\u001b[0;34m\u001b[0m\u001b[0m\n",
      "\u001b[0;31mTypeError\u001b[0m: Cannot interpret feed_dict key as Tensor: Tensor Tensor(\"lstm_5_input:0\", shape=(?, 4, 10), dtype=float32) is not an element of this graph."
     ]
    },
    {
     "data": {
      "text/plain": [
       "<matplotlib.figure.Figure at 0x17b6ae0b8>"
      ]
     },
     "metadata": {},
     "output_type": "display_data"
    }
   ],
   "source": [
    "\n",
    "# create and fit the LSTM network\n",
    "LEARNING_RATE = 0.005\n",
    "BATCH_SIZE = 50\n",
    "EPOCHS = 2000\n",
    "opti_adam = keras.optimizers.Adam(lr=LEARNING_RATE, beta_1=0.9, beta_2=0.999, epsilon=1e-08, decay=0.0)\n",
    "\n",
    "model = Sequential()\n",
    "\n",
    "model.add(LSTM(50, return_sequences=True, input_shape=(look_back, 10)))\n",
    "#model.add(LSTM(20, input_shape=(look_back, 10)))\n",
    "model.add(LSTM(20))\n",
    "\n",
    "\n",
    "\n",
    "model.add(Dense(1))\n",
    "model.compile(loss='mean_squared_error', optimizer=opti_adam)\n",
    "history = model.fit(trainX, trainY, epochs=EPOCHS, batch_size=BATCH_SIZE,\n",
    "          verbose=1, callbacks=[plot_losses], validation_data=(testX, testY))"
   ]
  },
  {
   "cell_type": "code",
   "execution_count": 266,
   "metadata": {},
   "outputs": [
    {
     "name": "stdout",
     "output_type": "stream",
     "text": [
      "_________________________________________________________________\n",
      "Layer (type)                 Output Shape              Param #   \n",
      "=================================================================\n",
      "lstm_55 (LSTM)               (None, 4, 50)             12200     \n",
      "_________________________________________________________________\n",
      "lstm_56 (LSTM)               (None, 20)                5680      \n",
      "_________________________________________________________________\n",
      "dense_37 (Dense)             (None, 1)                 21        \n",
      "=================================================================\n",
      "Total params: 17,901\n",
      "Trainable params: 17,901\n",
      "Non-trainable params: 0\n",
      "_________________________________________________________________\n"
     ]
    }
   ],
   "source": [
    "model.summary()"
   ]
  },
  {
   "cell_type": "code",
   "execution_count": 267,
   "metadata": {},
   "outputs": [
    {
     "name": "stdout",
     "output_type": "stream",
     "text": [
      "[[ 1246.37353516]\n",
      " [ 1246.59228516]\n",
      " [ 1241.23876953]\n",
      " ..., \n",
      " [ 2102.84960938]\n",
      " [ 2107.17993164]\n",
      " [ 2106.73461914]]\n"
     ]
    },
    {
     "data": {
      "image/png": "[encoded data removed]",
      "text/plain": [
       "<matplotlib.figure.Figure at 0x16fc07eb8>"
      ]
     },
     "metadata": {},
     "output_type": "display_data"
    }
   ],
   "source": [
    "import matplotlib.pyplot as plt\n",
    "%matplotlib inline\n",
    "bugger = model.predict(trainX)\n",
    "print(bugger)\n",
    "\n",
    "plt.plot(bugger)\n",
    "plt.plot(trainY)\n",
    "plt.show()"
   ]
  },
  {
   "cell_type": "code",
   "execution_count": 268,
   "metadata": {},
   "outputs": [
    {
     "name": "stdout",
     "output_type": "stream",
     "text": [
      "[[ 2076.93115234]\n",
      " [ 2076.53710938]\n",
      " [ 2090.58813477]\n",
      " [ 2090.8984375 ]\n",
      " [ 2094.50854492]\n",
      " [ 2082.67797852]\n",
      " [ 2083.73681641]\n",
      " [ 2084.43066406]\n",
      " [ 2084.9128418 ]\n",
      " [ 2086.28320312]\n",
      " [ 2068.92944336]\n",
      " [ 2071.46069336]\n",
      " [ 2073.13330078]\n",
      " [ 2088.34350586]\n",
      " [ 2090.79785156]\n",
      " [ 2090.7824707 ]\n",
      " [ 2090.84033203]\n",
      " [ 2100.58032227]\n",
      " [ 2100.58007812]\n",
      " [ 2100.58007812]\n",
      " [ 2101.52246094]\n",
      " [ 2107.02929688]\n",
      " [ 2107.02929688]\n",
      " [ 2107.02807617]\n",
      " [ 2107.02197266]\n",
      " [ 2107.00097656]\n",
      " [ 2107.00146484]\n",
      " [ 2107.00292969]\n",
      " [ 2107.02539062]\n",
      " [ 2107.13549805]\n",
      " [ 2107.13891602]\n",
      " [ 2107.18994141]\n",
      " [ 2082.70141602]\n",
      " [ 2098.87451172]\n",
      " [ 2107.19067383]\n",
      " [ 2096.70556641]\n",
      " [ 2081.75024414]\n",
      " [ 2101.17993164]\n",
      " [ 2101.16479492]\n",
      " [ 2101.1652832 ]\n",
      " [ 2101.1652832 ]\n",
      " [ 2106.06518555]\n",
      " [ 2106.06542969]\n",
      " [ 2106.06591797]\n",
      " [ 2106.28930664]\n",
      " [ 2107.13647461]\n",
      " [ 2107.12939453]\n",
      " [ 2107.11962891]\n",
      " [ 2107.11450195]\n",
      " [ 2107.02539062]\n",
      " [ 2107.05322266]\n",
      " [ 2107.1809082 ]\n",
      " [ 2107.19970703]\n",
      " [ 2106.48608398]\n",
      " [ 2106.48608398]\n",
      " [ 2104.390625  ]\n",
      " [ 2102.29418945]\n",
      " [ 2089.9375    ]\n",
      " [ 2089.93725586]\n",
      " [ 2082.78833008]\n",
      " [ 2083.27026367]\n",
      " [ 2075.14794922]\n",
      " [ 2088.22900391]\n",
      " [ 2090.70092773]\n",
      " [ 2093.08740234]\n",
      " [ 2096.01831055]\n",
      " [ 2098.45996094]\n",
      " [ 2098.46166992]\n",
      " [ 2100.10766602]\n",
      " [ 2100.13305664]\n",
      " [ 2097.54248047]\n",
      " [ 2098.00952148]\n",
      " [ 2097.95678711]\n",
      " [ 2101.49536133]\n",
      " [ 2064.43676758]\n",
      " [ 2074.97607422]\n",
      " [ 2066.6184082 ]\n",
      " [ 2072.20776367]\n",
      " [ 2071.61352539]\n",
      " [ 2068.68969727]\n",
      " [ 2067.66967773]\n",
      " [ 2066.59887695]\n",
      " [ 2094.93994141]\n",
      " [ 2095.86621094]\n",
      " [ 2098.78100586]\n",
      " [ 2080.94824219]\n",
      " [ 2107.19995117]\n",
      " [ 2107.19995117]\n",
      " [ 2107.19335938]\n",
      " [ 2107.19702148]\n",
      " [ 2107.19702148]\n",
      " [ 2082.31713867]\n",
      " [ 2062.8737793 ]\n",
      " [ 2104.43115234]\n",
      " [ 2104.43164062]\n",
      " [ 2104.43164062]\n",
      " [ 2104.41064453]\n",
      " [ 2100.46508789]\n",
      " [ 2100.46533203]\n",
      " [ 2100.46533203]\n",
      " [ 2098.0300293 ]\n",
      " [ 2089.94897461]\n",
      " [ 2089.95019531]\n",
      " [ 2089.94458008]\n",
      " [ 2089.82543945]\n",
      " [ 2090.23266602]\n",
      " [ 2090.23632812]\n",
      " [ 2090.23608398]\n",
      " [ 2091.37329102]\n",
      " [ 2100.67553711]\n",
      " [ 2028.47875977]\n",
      " [ 1971.66333008]\n",
      " [ 1880.84606934]\n",
      " [ 1898.68920898]\n",
      " [ 1936.47265625]\n",
      " [ 1984.58544922]\n",
      " [ 1984.29345703]\n",
      " [ 1981.68237305]\n",
      " [ 1916.28540039]\n",
      " [ 1967.28979492]\n",
      " [ 1964.25439453]\n",
      " [ 1928.68139648]\n",
      " [ 1970.86914062]\n",
      " [ 1950.3112793 ]\n",
      " [ 1953.08349609]\n",
      " [ 1950.4699707 ]\n",
      " [ 1976.58361816]\n",
      " [ 1993.68701172]\n",
      " [ 1999.49853516]\n",
      " [ 1980.85766602]\n",
      " [ 1966.75976562]\n",
      " [ 1963.11743164]\n",
      " [ 1963.87841797]\n",
      " [ 1971.9440918 ]\n",
      " [ 1930.72167969]\n",
      " [ 1924.14831543]\n",
      " [ 1888.2310791 ]\n",
      " [ 1938.13745117]\n",
      " [ 1937.64379883]\n",
      " [ 1951.29711914]\n",
      " [ 1955.50512695]\n",
      " [ 1956.44946289]\n",
      " [ 1992.53027344]\n",
      " [ 1998.75268555]\n",
      " [ 2007.40307617]\n",
      " [ 2010.51098633]\n",
      " [ 2010.8269043 ]\n",
      " [ 1997.20507812]\n",
      " [ 1994.32177734]\n",
      " [ 2043.47314453]\n",
      " [ 2037.31958008]\n",
      " [ 2037.82116699]\n",
      " [ 2039.6784668 ]\n",
      " [ 2046.51635742]\n",
      " [ 2050.89013672]\n",
      " [ 2055.00854492]\n",
      " [ 2055.25976562]\n",
      " [ 2070.5637207 ]\n",
      " [ 2081.02832031]\n",
      " [ 2087.79174805]\n",
      " [ 2089.08618164]\n",
      " [ 2107.19873047]\n",
      " [ 2107.19873047]\n",
      " [ 2107.19873047]\n",
      " [ 2107.19873047]\n",
      " [ 2107.19628906]\n",
      " [ 2107.19628906]\n",
      " [ 2084.89648438]\n",
      " [ 2065.86230469]\n",
      " [ 2093.35107422]\n",
      " [ 2036.67749023]\n",
      " [ 2059.41015625]\n",
      " [ 2054.4543457 ]\n",
      " [ 2079.90893555]\n",
      " [ 2094.98291016]\n",
      " [ 2094.85205078]\n",
      " [ 2097.89624023]\n",
      " [ 2091.27050781]\n",
      " [ 2106.76513672]\n",
      " [ 2102.84960938]\n",
      " [ 2107.17993164]\n",
      " [ 2106.73461914]]\n"
     ]
    },
    {
     "data": {
      "image/png": "[encoded data removed]",
      "text/plain": [
       "<matplotlib.figure.Figure at 0x165e44eb8>"
      ]
     },
     "metadata": {},
     "output_type": "display_data"
    }
   ],
   "source": [
    "bugger_test = model.predict(testX)\n",
    "print(bugger_test)\n",
    "plt.plot(bugger_test)\n",
    "plt.plot(testY)\n",
    "plt.show()"
   ]
  },
  {
   "cell_type": "code",
   "execution_count": 278,
   "metadata": {},
   "outputs": [
    {
     "data": {
      "image/png": "[encoded data removed]",
      "text/plain": [
       "<matplotlib.figure.Figure at 0x15e2dbfd0>"
      ]
     },
     "metadata": {},
     "output_type": "display_data"
    }
   ],
   "source": [
    "# plot train and validation loss\n",
    "plt.plot(history.history['loss'][-1000:])\n",
    "plt.plot(history.history['val_loss'][-1000:])\n",
    "plt.title('model train vs validation loss')\n",
    "plt.ylabel('loss')\n",
    "plt.xlabel('epoch')\n",
    "plt.legend(['train', 'validation'], loc='upper right')\n",
    "plt.show()"
   ]
  },
  {
   "cell_type": "code",
   "execution_count": 270,
   "metadata": {},
   "outputs": [
    {
     "name": "stdout",
     "output_type": "stream",
     "text": [
      "1863\n",
      "1863\n"
     ]
    },
    {
     "data": {
      "image/png": "[encoded data removed]",
      "text/plain": [
       "<matplotlib.figure.Figure at 0x16b9e8400>"
      ]
     },
     "metadata": {},
     "output_type": "display_data"
    },
    {
     "name": "stdout",
     "output_type": "stream",
     "text": [
      "[ 1246.37353516  1246.59228516  1241.23876953 ...,  2102.84960938\n",
      "  2107.17993164  2106.73461914]\n"
     ]
    }
   ],
   "source": [
    "diff_bugger = np.diff(bugger[:,0])\n",
    "diff_bugger = [1 if x > 0 else 0 for x in diff_bugger]\n",
    "diff_trainY = np.diff(trainY)\n",
    "diff_trainY = [1 if x > 0 else 0 for x in diff_trainY]\n",
    "print(len(diff_trainY))\n",
    "print(len(diff_bugger))\n",
    "plt.plot(diff_trainY[1:200], alpha = 0.5)\n",
    "plt.plot(diff_bugger[1:200])\n",
    "plt.show()\n",
    "print(bugger[:,0])"
   ]
  },
  {
   "cell_type": "code",
   "execution_count": 271,
   "metadata": {},
   "outputs": [
    {
     "data": {
      "text/plain": [
       "array([[579, 261],\n",
       "       [269, 754]])"
      ]
     },
     "execution_count": 271,
     "metadata": {},
     "output_type": "execute_result"
    }
   ],
   "source": [
    "from sklearn.metrics import confusion_matrix\n",
    "confusion_matrix(diff_bugger, diff_trainY, labels=[0,1])"
   ]
  },
  {
   "cell_type": "code",
   "execution_count": 272,
   "metadata": {},
   "outputs": [
    {
     "data": {
      "text/plain": [
       "1333"
      ]
     },
     "execution_count": 272,
     "metadata": {},
     "output_type": "execute_result"
    }
   ],
   "source": [
    "579+754\n"
   ]
  },
  {
   "cell_type": "code",
   "execution_count": 273,
   "metadata": {},
   "outputs": [
    {
     "data": {
      "text/plain": [
       "530"
      ]
     },
     "execution_count": 273,
     "metadata": {},
     "output_type": "execute_result"
    }
   ],
   "source": [
    "261+269"
   ]
  },
  {
   "cell_type": "code",
   "execution_count": 274,
   "metadata": {},
   "outputs": [
    {
     "data": {
      "text/plain": [
       "0.7155126140633387"
      ]
     },
     "execution_count": 274,
     "metadata": {},
     "output_type": "execute_result"
    }
   ],
   "source": [
    "1333/(1333+530)"
   ]
  },
  {
   "cell_type": "code",
   "execution_count": null,
   "metadata": {
    "collapsed": true
   },
   "outputs": [],
   "source": []
  }
 ],
 "metadata": {
  "kernelspec": {
   "display_name": "Python 3",
   "language": "python",
   "name": "python3"
  },
  "language_info": {
   "codemirror_mode": {
    "name": "ipython",
    "version": 3
   },
   "file_extension": ".py",
   "mimetype": "text/x-python",
   "name": "python",
   "nbconvert_exporter": "python",
   "pygments_lexer": "ipython3",
   "version": "3.6.1"
  }
 },
 "nbformat": 4,
 "nbformat_minor": 2
}
