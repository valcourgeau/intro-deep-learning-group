{
 "cells": [
  {
   "cell_type": "code",
   "execution_count": 31,
   "metadata": {},
   "outputs": [],
   "source": [
    "import tensorflow as tf\n",
    "import numpy as np\n",
    "import numpy.random as rnd\n",
    "import os\n",
    "import sys\n",
    "\n",
    "# to make this notebook's output stable across runs\n",
    "def reset_graph(seed=42):\n",
    "    tf.reset_default_graph()\n",
    "    tf.set_random_seed(seed)\n",
    "    np.random.seed(seed)\n",
    "\n",
    "# To plot pretty figures\n",
    "%matplotlib inline\n",
    "import matplotlib\n",
    "import matplotlib.pyplot as plt\n",
    "plt.rcParams['axes.labelsize'] = 14\n",
    "plt.rcParams['xtick.labelsize'] = 12\n",
    "plt.rcParams['ytick.labelsize'] = 12\n"
   ]
  },
  {
   "cell_type": "code",
   "execution_count": 32,
   "metadata": {},
   "outputs": [],
   "source": [
    "def plot_image(image, shape=[28, 28]):\n",
    "    plt.imshow(image.reshape(shape), cmap=\"Greys\", interpolation=\"nearest\")\n",
    "    plt.axis(\"off\")"
   ]
  },
  {
   "cell_type": "code",
   "execution_count": 33,
   "metadata": {},
   "outputs": [],
   "source": [
    "def plot_multiple_images(images, n_rows, n_cols, pad=2):\n",
    "    images = images - images.min()  # make the minimum == 0, so the padding looks white\n",
    "    w,h = images.shape[1:]\n",
    "    image = np.zeros(((w+pad)*n_rows+pad, (h+pad)*n_cols+pad))\n",
    "    for y in range(n_rows):\n",
    "        for x in range(n_cols):\n",
    "            image[(y*(h+pad)+pad):(y*(h+pad)+pad+h),(x*(w+pad)+pad):(x*(w+pad)+pad+w)] = images[y*n_cols+x]\n",
    "    plt.imshow(image, cmap=\"Greys\", interpolation=\"nearest\")\n",
    "    plt.axis(\"off\")"
   ]
  },
  {
   "cell_type": "code",
   "execution_count": 34,
   "metadata": {},
   "outputs": [],
   "source": [
    "def show_reconstructed_digits(X, outputs, model_path = None, n_test_digits = 2):\n",
    "    with tf.Session() as sess:\n",
    "        if model_path:\n",
    "            saver.restore(sess, model_path)\n",
    "        X_test = mnist.test.images[:n_test_digits]\n",
    "        outputs_val = outputs.eval(feed_dict={X: X_test})\n",
    "\n",
    "    fig = plt.figure(figsize=(8, 3 * n_test_digits))\n",
    "    for digit_index in range(n_test_digits):\n",
    "        plt.subplot(n_test_digits, 2, digit_index * 2 + 1)\n",
    "        plot_image(X_test[digit_index])\n",
    "        plt.subplot(n_test_digits, 2, digit_index * 2 + 2)\n",
    "        plot_image(outputs_val[digit_index])"
   ]
  },
  {
   "cell_type": "code",
   "execution_count": 5,
   "metadata": {},
   "outputs": [
    {
     "name": "stdout",
     "output_type": "stream",
     "text": [
      "Extracting /tmp/data/train-images-idx3-ubyte.gz\n",
      "Extracting /tmp/data/train-labels-idx1-ubyte.gz\n",
      "Extracting /tmp/data/t10k-images-idx3-ubyte.gz\n",
      "Extracting /tmp/data/t10k-labels-idx1-ubyte.gz\n"
     ]
    }
   ],
   "source": [
    "from tensorflow.examples.tutorials.mnist import input_data\n",
    "mnist = input_data.read_data_sets(\"/tmp/data/\")"
   ]
  },
  {
   "cell_type": "code",
   "execution_count": 57,
   "metadata": {},
   "outputs": [],
   "source": [
    "reset_graph()\n",
    "\n",
    "from functools import partial\n",
    "\n",
    "def train_autoencoder(X_train, n_neurons, n_epochs, batch_size,\n",
    "                      learning_rate = 0.01, l2_reg = 0.0005,\n",
    "                      activation=tf.nn.elu, seed=42):\n",
    "    graph = tf.Graph()\n",
    "    with graph.as_default():\n",
    "        tf.set_random_seed(seed)\n",
    "\n",
    "        n_inputs = X_train.shape[1]\n",
    "\n",
    "        X = tf.placeholder(tf.float32, shape=[None, n_inputs])\n",
    "        \n",
    "        my_dense_layer = partial(\n",
    "            tf.layers.dense,\n",
    "            activation=activation,\n",
    "            kernel_initializer=tf.contrib.layers.variance_scaling_initializer(),\n",
    "            kernel_regularizer=tf.contrib.layers.l2_regularizer(l2_reg))\n",
    "\n",
    "        hidden = my_dense_layer(X, n_neurons, name=\"hidden\")\n",
    "        outputs = my_dense_layer(hidden, n_inputs, activation=None, name=\"outputs\")\n",
    "\n",
    "        reconstruction_loss = tf.reduce_mean(tf.square(outputs - X))\n",
    "\n",
    "        reg_losses = tf.get_collection(tf.GraphKeys.REGULARIZATION_LOSSES)\n",
    "        loss = tf.add_n([reconstruction_loss] + reg_losses)\n",
    "\n",
    "        optimizer = tf.train.AdamOptimizer(learning_rate)\n",
    "        training_op = optimizer.minimize(loss)\n",
    "\n",
    "        init = tf.global_variables_initializer()\n",
    "\n",
    "    with tf.Session(graph=graph) as sess:\n",
    "        init.run()\n",
    "        for epoch in range(n_epochs):\n",
    "            n_batches = len(X_train) // batch_size\n",
    "            for iteration in range(n_batches):\n",
    "                #print(\"\\r{}%\".format(100 * iteration // n_batches), end=\"\")\n",
    "                sys.stdout.flush()\n",
    "                indices = rnd.permutation(len(X_train))[:batch_size]\n",
    "                X_batch = X_train[indices]\n",
    "                sess.run(training_op, feed_dict={X: X_batch})\n",
    "            loss_train = reconstruction_loss.eval(feed_dict={X: X_batch})\n",
    "            if epoch % 500 == 0:\n",
    "                print(\"\\r{}\".format(epoch), \"Train MSE:\", loss_train)\n",
    "        params = dict([(var.name, var.eval()) for var in tf.get_collection(tf.GraphKeys.TRAINABLE_VARIABLES)])\n",
    "        hidden_val = hidden.eval(feed_dict={X: X_train})\n",
    "        return hidden_val, params[\"hidden/kernel:0\"], params[\"hidden/bias:0\"], params[\"outputs/kernel:0\"], params[\"outputs/bias:0\"]"
   ]
  },
  {
   "cell_type": "code",
   "execution_count": 7,
   "metadata": {},
   "outputs": [
    {
     "name": "stdout",
     "output_type": "stream",
     "text": [
      "0 Train MSE: 0.0183982\n",
      "1 Train MSE: 0.0177385\n",
      "2 Train MSE: 0.0196133\n",
      "3 Train MSE: 0.0193563\n",
      "4 Train MSE: 0.0190451\n",
      "5 Train MSE: 0.0190056\n",
      "6 Train MSE: 0.0193961\n",
      "7 Train MSE: 0.0192289\n",
      "8 Train MSE: 0.0202561\n",
      "9 Train MSE: 0.0199055\n",
      "0 Train MSE: 0.00380842\n",
      "1 Train MSE: 0.00409988\n",
      "29% Train MSE: 0.00431585\n",
      "3 Train MSE: 0.00434471\n",
      "4 Train MSE: 0.00419277\n",
      "5 Train MSE: 0.00429302\n",
      "6 Train MSE: 0.00422816\n",
      "7 Train MSE: 0.00431629\n",
      "8 Train MSE: 0.00424535\n",
      "9 Train MSE: 0.00406624\n",
      "0 Train MSE: 0.00200147\n",
      "1 Train MSE: 0.00225636\n",
      "29% Train MSE: 0.00216797\n",
      "3 Train MSE: 0.00219349\n",
      "4 Train MSE: 0.00235258\n",
      "5 Train MSE: 0.00213609\n",
      "6 Train MSE: 0.00228164\n",
      "7 Train MSE: 0.00216262\n",
      "8 Train MSE: 0.0023144\n",
      "9 Train MSE: 0.00219831\n",
      "0 Train MSE: 0.00135469\n",
      "1 Train MSE: 0.00145265\n",
      "2 Train MSE: 0.00159484\n",
      "3 Train MSE: 0.00170018\n",
      "4 Train MSE: 0.00181245\n",
      "5 Train MSE: 0.00158198\n",
      "6 %Train MSE: 0.00162535\n",
      "7 Train MSE: 0.00183296\n",
      "89% Train MSE: 0.00165678\n",
      "9 Train MSE: 0.00177484\n"
     ]
    }
   ],
   "source": [
    "hidden_output1, W1, b1, W8, b8 = train_autoencoder(mnist.train.images, n_neurons=300, n_epochs=10, batch_size=150)\n",
    "hidden_output2, W2, b2, W7, b7 = train_autoencoder(hidden_output1, n_neurons=150, n_epochs=10, batch_size=150)\n",
    "hidden_output3, W3, b3, W6, b6 = train_autoencoder(hidden_output2, n_neurons=100, n_epochs=10, batch_size=150)\n",
    "_, W4, b4, W5, b5 = train_autoencoder(hidden_output3, n_neurons=100, n_epochs=10, batch_size=150)"
   ]
  },
  {
   "cell_type": "code",
   "execution_count": 8,
   "metadata": {},
   "outputs": [],
   "source": [
    "reset_graph()\n",
    "\n",
    "n_inputs = 28*28\n",
    "\n",
    "X = tf.placeholder(tf.float32, shape=[None, n_inputs])\n",
    "hidden1 = tf.nn.elu(tf.matmul(X, W1) + b1)\n",
    "hidden2 = tf.nn.elu(tf.matmul(hidden1, W2) + b2)\n",
    "hidden3 = tf.nn.elu(tf.matmul(hidden2, W3) + b3)\n",
    "hidden4 = tf.nn.elu(tf.matmul(hidden3, W4) + b4)\n",
    "hidden5 = tf.nn.elu(tf.matmul(hidden4, W5) + b5)\n",
    "hidden6 = tf.nn.elu(tf.matmul(hidden5, W6) + b6)\n",
    "hidden7 = tf.nn.elu(tf.matmul(hidden6, W7) + b7)\n",
    "outputs = tf.matmul(hidden7, W8) + b8"
   ]
  },
  {
   "cell_type": "code",
   "execution_count": 9,
   "metadata": {},
   "outputs": [
    {
     "data": {
      "image/png": "[encoded data removed]",
      "text/plain": [
       "<matplotlib.figure.Figure at 0x130b62710>"
      ]
     },
     "metadata": {},
     "output_type": "display_data"
    }
   ],
   "source": [
    "show_reconstructed_digits(X, outputs, n_test_digits = 4)"
   ]
  },
  {
   "cell_type": "code",
   "execution_count": 29,
   "metadata": {},
   "outputs": [
    {
     "name": "stdout",
     "output_type": "stream",
     "text": [
      "(2079, 21)\n"
     ]
    }
   ],
   "source": [
    "x_train = np.genfromtxt('data/data_wt/sp500_wt.csv', delimiter=',', dtype=None, names=True)\n",
    "x_train = [list(item) for item in x_train]\n",
    "x_train = np.array(x_train)\n",
    "print(x_train.shape)"
   ]
  },
  {
   "cell_type": "code",
   "execution_count": null,
   "metadata": {},
   "outputs": [],
   "source": [
    "# Following the paper's instructions\n",
    "BATCH_SIZE = 60\n",
    "N_EPOCHS = 5000\n",
    "ACTIVATION = tf.nn.sigmoid\n",
    "LEARNING_RATE = 0.05\n",
    "\n",
    "hidden_output1, W1, b1, W8, b8 = train_autoencoder(x_train, \n",
    "                                                   n_neurons=10, \n",
    "                                                   n_epochs=N_EPOCHS, \n",
    "                                                   batch_size=BATCH_SIZE, \n",
    "                                                   learning_rate=LEARNING_RATE,\n",
    "                                                   activation=ACTIVATION)\n",
    "print(\"-------------------------------\")\n",
    "hidden_output2, W2, b2, W7, b7 = train_autoencoder(hidden_output1, \n",
    "                                                   n_neurons=10, \n",
    "                                                   n_epochs=N_EPOCHS, \n",
    "                                                   batch_size=BATCH_SIZE,\n",
    "                                                   learning_rate=LEARNING_RATE,\n",
    "                                                   activation=ACTIVATION)\n",
    "print(\"-------------------------------\")\n",
    "hidden_output3, W3, b3, W6, b6 = train_autoencoder(hidden_output2, \n",
    "                                                   n_neurons=10, \n",
    "                                                   n_epochs=N_EPOCHS, \n",
    "                                                   batch_size=BATCH_SIZE,\n",
    "                                                   learning_rate=LEARNING_RATE,\n",
    "                                                   activation=ACTIVATION)\n",
    "print(\"-------------------------------\")\n",
    "output4, W4, b4, W5, b5 = train_autoencoder(hidden_output3, \n",
    "                                      n_neurons=10, \n",
    "                                      n_epochs=N_EPOCHS, \n",
    "                                      batch_size=BATCH_SIZE,\n",
    "                                      learning_rate=LEARNING_RATE/5,\n",
    "                                      activation=ACTIVATION)"
   ]
  },
  {
   "cell_type": "code",
   "execution_count": 54,
   "metadata": {},
   "outputs": [
    {
     "name": "stdout",
     "output_type": "stream",
     "text": [
      "20\n"
     ]
    }
   ],
   "source": [
    "print(len(output4[1]))"
   ]
  }
 ],
 "metadata": {
  "kernelspec": {
   "display_name": "Python 3",
   "language": "python",
   "name": "python3"
  },
  "language_info": {
   "codemirror_mode": {
    "name": "ipython",
    "version": 3
   },
   "file_extension": ".py",
   "mimetype": "text/x-python",
   "name": "python",
   "nbconvert_exporter": "python",
   "pygments_lexer": "ipython3",
   "version": "3.6.0"
  }
 },
 "nbformat": 4,
 "nbformat_minor": 2
}
